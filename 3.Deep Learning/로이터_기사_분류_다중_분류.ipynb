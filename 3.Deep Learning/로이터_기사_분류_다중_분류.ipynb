{
  "nbformat": 4,
  "nbformat_minor": 0,
  "metadata": {
    "colab": {
      "provenance": [],
      "authorship_tag": "ABX9TyMDlGTZO+2plQXJZz+7ZZf1",
      "include_colab_link": true
    },
    "kernelspec": {
      "name": "python3",
      "display_name": "Python 3"
    },
    "language_info": {
      "name": "python"
    }
  },
  "cells": [
    {
      "cell_type": "markdown",
      "metadata": {
        "id": "view-in-github",
        "colab_type": "text"
      },
      "source": [
        "<a href=\"https://colab.research.google.com/github/PocachipMind/MS-AI-School/blob/main/3.Deep%20Learning/%EB%A1%9C%EC%9D%B4%ED%84%B0_%EA%B8%B0%EC%82%AC_%EB%B6%84%EB%A5%98_%EB%8B%A4%EC%A4%91_%EB%B6%84%EB%A5%98.ipynb\" target=\"_parent\"><img src=\"https://colab.research.google.com/assets/colab-badge.svg\" alt=\"Open In Colab\"/></a>"
      ]
    },
    {
      "cell_type": "code",
      "execution_count": 80,
      "metadata": {
        "id": "39WnZxAsYG2l"
      },
      "outputs": [],
      "source": [
        "import keras\n",
        "import numpy as np\n",
        "import matplotlib.pyplot as plt"
      ]
    },
    {
      "cell_type": "code",
      "source": [
        "# 로이더 기사 데이터 셋을 로딩합니다.\n",
        "\n",
        "from keras.datasets import reuters\n",
        "(train_data, train_labels) , (test_data, test_labels) = reuters.load_data(num_words= 10000)"
      ],
      "metadata": {
        "id": "E4ZR4hnTYd1I"
      },
      "execution_count": 81,
      "outputs": []
    },
    {
      "cell_type": "code",
      "source": [
        "train_data.shape"
      ],
      "metadata": {
        "colab": {
          "base_uri": "https://localhost:8080/"
        },
        "id": "fXHiAFuTZLcM",
        "outputId": "f114e9fd-b56b-40f0-ae93-6a572aaf5e04"
      },
      "execution_count": 82,
      "outputs": [
        {
          "output_type": "execute_result",
          "data": {
            "text/plain": [
              "(8982,)"
            ]
          },
          "metadata": {},
          "execution_count": 82
        }
      ]
    },
    {
      "cell_type": "code",
      "source": [
        "train_data[0]"
      ],
      "metadata": {
        "colab": {
          "base_uri": "https://localhost:8080/"
        },
        "id": "XwWyz21iZU0o",
        "outputId": "bbb5d59c-9e8d-4848-f7d9-6dc01a31e57b"
      },
      "execution_count": 83,
      "outputs": [
        {
          "output_type": "execute_result",
          "data": {
            "text/plain": [
              "[1,\n",
              " 2,\n",
              " 2,\n",
              " 8,\n",
              " 43,\n",
              " 10,\n",
              " 447,\n",
              " 5,\n",
              " 25,\n",
              " 207,\n",
              " 270,\n",
              " 5,\n",
              " 3095,\n",
              " 111,\n",
              " 16,\n",
              " 369,\n",
              " 186,\n",
              " 90,\n",
              " 67,\n",
              " 7,\n",
              " 89,\n",
              " 5,\n",
              " 19,\n",
              " 102,\n",
              " 6,\n",
              " 19,\n",
              " 124,\n",
              " 15,\n",
              " 90,\n",
              " 67,\n",
              " 84,\n",
              " 22,\n",
              " 482,\n",
              " 26,\n",
              " 7,\n",
              " 48,\n",
              " 4,\n",
              " 49,\n",
              " 8,\n",
              " 864,\n",
              " 39,\n",
              " 209,\n",
              " 154,\n",
              " 6,\n",
              " 151,\n",
              " 6,\n",
              " 83,\n",
              " 11,\n",
              " 15,\n",
              " 22,\n",
              " 155,\n",
              " 11,\n",
              " 15,\n",
              " 7,\n",
              " 48,\n",
              " 9,\n",
              " 4579,\n",
              " 1005,\n",
              " 504,\n",
              " 6,\n",
              " 258,\n",
              " 6,\n",
              " 272,\n",
              " 11,\n",
              " 15,\n",
              " 22,\n",
              " 134,\n",
              " 44,\n",
              " 11,\n",
              " 15,\n",
              " 16,\n",
              " 8,\n",
              " 197,\n",
              " 1245,\n",
              " 90,\n",
              " 67,\n",
              " 52,\n",
              " 29,\n",
              " 209,\n",
              " 30,\n",
              " 32,\n",
              " 132,\n",
              " 6,\n",
              " 109,\n",
              " 15,\n",
              " 17,\n",
              " 12]"
            ]
          },
          "metadata": {},
          "execution_count": 83
        }
      ]
    },
    {
      "cell_type": "code",
      "source": [
        "# 기사내용 바꿔보기\n",
        "word_index = reuters.get_word_index()\n",
        "reverse_word_index = dict([(value, key) for (key, value) in word_index.items()])\n",
        "\n",
        "decoded_newswire = ' '.join([reverse_word_index.get(i-3,'?') for i in train_data[0]])"
      ],
      "metadata": {
        "id": "DGNBg0R1ZcGt"
      },
      "execution_count": 84,
      "outputs": []
    },
    {
      "cell_type": "code",
      "source": [
        "decoded_newswire"
      ],
      "metadata": {
        "colab": {
          "base_uri": "https://localhost:8080/",
          "height": 72
        },
        "id": "wKAZ3eE-aFmf",
        "outputId": "657c746a-3a6b-4520-ea85-0dcce75f73f4"
      },
      "execution_count": 85,
      "outputs": [
        {
          "output_type": "execute_result",
          "data": {
            "text/plain": [
              "'? ? ? said as a result of its december acquisition of space co it expects earnings per share in 1987 of 1 15 to 1 30 dlrs per share up from 70 cts in 1986 the company said pretax net should rise to nine to 10 mln dlrs from six mln dlrs in 1986 and rental operation revenues to 19 to 22 mln dlrs from 12 5 mln dlrs it said cash flow per share this year should be 2 50 to three dlrs reuter 3'"
            ],
            "application/vnd.google.colaboratory.intrinsic+json": {
              "type": "string"
            }
          },
          "metadata": {},
          "execution_count": 85
        }
      ]
    },
    {
      "cell_type": "code",
      "source": [
        "train_labels[0]"
      ],
      "metadata": {
        "colab": {
          "base_uri": "https://localhost:8080/"
        },
        "id": "30-AP0ncaygt",
        "outputId": "7d26c630-dd54-4c78-8e66-714552140309"
      },
      "execution_count": 86,
      "outputs": [
        {
          "output_type": "execute_result",
          "data": {
            "text/plain": [
              "3"
            ]
          },
          "metadata": {},
          "execution_count": 86
        }
      ]
    },
    {
      "cell_type": "code",
      "source": [
        "# 데이터의 준비\n",
        "\n",
        "def vectorize_sequences(sequences, dimension=10000):\n",
        "\n",
        "  results = np.zeros((len(sequences),dimension))\n",
        "\n",
        "  for i, sequence in enumerate(sequences):\n",
        "    results[i, sequence] = 1\n",
        "\n",
        "  return results\n",
        "\n",
        "# 데이터의 변환 ( 실제 데이터 변환 )\n",
        "\n",
        "x_train = vectorize_sequences(train_data)\n",
        "x_test = vectorize_sequences(test_data)"
      ],
      "metadata": {
        "id": "SyXTxuQZagbS"
      },
      "execution_count": 87,
      "outputs": []
    },
    {
      "cell_type": "code",
      "source": [
        "train_labels"
      ],
      "metadata": {
        "colab": {
          "base_uri": "https://localhost:8080/"
        },
        "id": "TFMVWCGaap4s",
        "outputId": "6579dc1d-4e43-4b22-fc00-7af2962fc0f3"
      },
      "execution_count": 88,
      "outputs": [
        {
          "output_type": "execute_result",
          "data": {
            "text/plain": [
              "array([ 3,  4,  3, ..., 25,  3, 25])"
            ]
          },
          "metadata": {},
          "execution_count": 88
        }
      ]
    },
    {
      "cell_type": "code",
      "source": [
        "# 라벨 데이터 엔코딩 - 이렇게 변환 가능하다는걸 보여주기 위한 코드일뿐뿐\n",
        "\n",
        "def to_one_hot(labels, dimension=46):\n",
        "  results = np.zeros((len(labels),dimension))\n",
        "\n",
        "  for i, sequence in enumerate(labels):\n",
        "    results[i, sequence] = 1\n",
        "\n",
        "  return results\n",
        "\n",
        "one_hot_train_labels = to_one_hot(train_labels)\n",
        "one_hot_test_labels = to_one_hot(test_labels)"
      ],
      "metadata": {
        "id": "uqdNPpxRcImH"
      },
      "execution_count": 89,
      "outputs": []
    },
    {
      "cell_type": "code",
      "source": [
        "# categorical 데이터로 변환 - 보통 이렇게 사용함\n",
        "from keras.utils.np_utils import to_categorical\n",
        "\n",
        "one_hot_train_labels = to_categorical(train_labels)\n",
        "one_hot_test_labels = to_categorical(test_labels)"
      ],
      "metadata": {
        "id": "jbIcNwmpeb0r"
      },
      "execution_count": 90,
      "outputs": []
    },
    {
      "cell_type": "code",
      "source": [
        "# 신경망을 구성합니다.\n",
        "\n",
        "from keras import models\n",
        "from keras import layers\n",
        "\n",
        "model = models.Sequential()\n",
        "model.add(layers.Dense(64, activation='relu', input_shape=(10000,)))\n",
        "model.add(layers.Dense(64, activation='relu'))\n",
        "model.add(layers.Dense(46, activation='softmax'))"
      ],
      "metadata": {
        "id": "0tUuwFyDfyuR"
      },
      "execution_count": 91,
      "outputs": []
    },
    {
      "cell_type": "code",
      "source": [
        "model.summary()"
      ],
      "metadata": {
        "colab": {
          "base_uri": "https://localhost:8080/"
        },
        "id": "Vg72jiQ2gwew",
        "outputId": "24e209fc-d3e3-45f1-efee-0d2167dccbda"
      },
      "execution_count": 92,
      "outputs": [
        {
          "output_type": "stream",
          "name": "stdout",
          "text": [
            "Model: \"sequential_3\"\n",
            "_________________________________________________________________\n",
            " Layer (type)                Output Shape              Param #   \n",
            "=================================================================\n",
            " dense_9 (Dense)             (None, 64)                640064    \n",
            "                                                                 \n",
            " dense_10 (Dense)            (None, 64)                4160      \n",
            "                                                                 \n",
            " dense_11 (Dense)            (None, 46)                2990      \n",
            "                                                                 \n",
            "=================================================================\n",
            "Total params: 647,214\n",
            "Trainable params: 647,214\n",
            "Non-trainable params: 0\n",
            "_________________________________________________________________\n"
          ]
        }
      ]
    },
    {
      "cell_type": "code",
      "source": [
        "model.compile(optimizer='rmsprop',\n",
        "              loss='categorical_crossentropy',\n",
        "              metrics=['accuracy'])"
      ],
      "metadata": {
        "id": "I3TWo6WHhLUk"
      },
      "execution_count": 93,
      "outputs": []
    },
    {
      "cell_type": "code",
      "source": [
        "# 훈련 데이터의 준비\n",
        "\n",
        "x_val = x_train[:1000]\n",
        "partial_x_train = x_train[1000:]\n",
        "y_val = one_hot_train_labels[:1000]\n",
        "partial_y_train = one_hot_train_labels[1000:]"
      ],
      "metadata": {
        "id": "KBpHjW8NoFMr"
      },
      "execution_count": 94,
      "outputs": []
    },
    {
      "cell_type": "code",
      "source": [
        "history = model.fit(partial_x_train, \n",
        "                    partial_y_train,\n",
        "                    epochs=20,\n",
        "                    batch_size=512,\n",
        "                    validation_data=(x_val, y_val))"
      ],
      "metadata": {
        "colab": {
          "base_uri": "https://localhost:8080/"
        },
        "id": "vfrzo22So-Sk",
        "outputId": "98610ffb-f1c9-4972-fa3a-cc2dd952eeee"
      },
      "execution_count": 95,
      "outputs": [
        {
          "output_type": "stream",
          "name": "stdout",
          "text": [
            "Epoch 1/20\n",
            "16/16 [==============================] - 2s 71ms/step - loss: 2.6431 - accuracy: 0.5545 - val_loss: 1.7522 - val_accuracy: 0.6460\n",
            "Epoch 2/20\n",
            "16/16 [==============================] - 1s 56ms/step - loss: 1.4184 - accuracy: 0.7107 - val_loss: 1.3045 - val_accuracy: 0.7110\n",
            "Epoch 3/20\n",
            "16/16 [==============================] - 1s 55ms/step - loss: 1.0433 - accuracy: 0.7790 - val_loss: 1.1326 - val_accuracy: 0.7480\n",
            "Epoch 4/20\n",
            "16/16 [==============================] - 1s 54ms/step - loss: 0.8241 - accuracy: 0.8275 - val_loss: 1.0269 - val_accuracy: 0.7890\n",
            "Epoch 5/20\n",
            "16/16 [==============================] - 1s 54ms/step - loss: 0.6560 - accuracy: 0.8667 - val_loss: 0.9547 - val_accuracy: 0.8000\n",
            "Epoch 6/20\n",
            "16/16 [==============================] - 1s 54ms/step - loss: 0.5270 - accuracy: 0.8926 - val_loss: 0.9229 - val_accuracy: 0.8120\n",
            "Epoch 7/20\n",
            "16/16 [==============================] - 1s 54ms/step - loss: 0.4274 - accuracy: 0.9129 - val_loss: 0.8933 - val_accuracy: 0.8230\n",
            "Epoch 8/20\n",
            "16/16 [==============================] - 1s 57ms/step - loss: 0.3468 - accuracy: 0.9261 - val_loss: 0.8813 - val_accuracy: 0.8200\n",
            "Epoch 9/20\n",
            "16/16 [==============================] - 1s 60ms/step - loss: 0.2854 - accuracy: 0.9392 - val_loss: 0.8823 - val_accuracy: 0.8120\n",
            "Epoch 10/20\n",
            "16/16 [==============================] - 1s 83ms/step - loss: 0.2431 - accuracy: 0.9454 - val_loss: 0.9218 - val_accuracy: 0.8030\n",
            "Epoch 11/20\n",
            "16/16 [==============================] - 1s 53ms/step - loss: 0.2099 - accuracy: 0.9490 - val_loss: 0.9389 - val_accuracy: 0.8080\n",
            "Epoch 12/20\n",
            "16/16 [==============================] - 1s 54ms/step - loss: 0.1857 - accuracy: 0.9506 - val_loss: 0.9130 - val_accuracy: 0.8150\n",
            "Epoch 13/20\n",
            "16/16 [==============================] - 1s 54ms/step - loss: 0.1665 - accuracy: 0.9536 - val_loss: 0.9366 - val_accuracy: 0.8040\n",
            "Epoch 14/20\n",
            "16/16 [==============================] - 1s 54ms/step - loss: 0.1490 - accuracy: 0.9545 - val_loss: 0.9634 - val_accuracy: 0.8050\n",
            "Epoch 15/20\n",
            "16/16 [==============================] - 1s 53ms/step - loss: 0.1363 - accuracy: 0.9554 - val_loss: 1.0171 - val_accuracy: 0.7930\n",
            "Epoch 16/20\n",
            "16/16 [==============================] - 1s 53ms/step - loss: 0.1365 - accuracy: 0.9554 - val_loss: 1.0277 - val_accuracy: 0.8070\n",
            "Epoch 17/20\n",
            "16/16 [==============================] - 1s 53ms/step - loss: 0.1274 - accuracy: 0.9572 - val_loss: 1.0211 - val_accuracy: 0.8000\n",
            "Epoch 18/20\n",
            "16/16 [==============================] - 1s 55ms/step - loss: 0.1168 - accuracy: 0.9580 - val_loss: 1.0980 - val_accuracy: 0.7900\n",
            "Epoch 19/20\n",
            "16/16 [==============================] - 1s 56ms/step - loss: 0.1161 - accuracy: 0.9582 - val_loss: 1.0523 - val_accuracy: 0.8060\n",
            "Epoch 20/20\n",
            "16/16 [==============================] - 1s 54ms/step - loss: 0.1118 - accuracy: 0.9570 - val_loss: 1.0763 - val_accuracy: 0.7960\n"
          ]
        }
      ]
    },
    {
      "cell_type": "code",
      "source": [
        "# 학습 결과를 가져온다. \n",
        "loss = history.history['loss']\n",
        "val_loss = history.history['val_loss']\n",
        "acc = history.history['accuracy']\n",
        "val_acc = history.history['val_accuracy']\n",
        "\n",
        "epochs = range(1, len(loss) + 1)"
      ],
      "metadata": {
        "id": "cIScOAzApdUo"
      },
      "execution_count": 96,
      "outputs": []
    },
    {
      "cell_type": "code",
      "source": [
        "# 결과를 시각화 한다. \n",
        "plt.plot(epochs, loss, 'bo', label='Training Loss')\n",
        "plt.plot(epochs, val_loss, 'b-', label='Validation Loss')\n",
        "plt.title('Training and validation loss')\n",
        "plt.xlabel('Epochs')\n",
        "plt.ylabel('Loss')\n",
        "plt.legend()"
      ],
      "metadata": {
        "colab": {
          "base_uri": "https://localhost:8080/",
          "height": 313
        },
        "id": "UrSBAHt-rFPa",
        "outputId": "fdd72939-9234-4c6d-be6c-63a694b78e21"
      },
      "execution_count": 97,
      "outputs": [
        {
          "output_type": "execute_result",
          "data": {
            "text/plain": [
              "<matplotlib.legend.Legend at 0x7fb58ae6f950>"
            ]
          },
          "metadata": {},
          "execution_count": 97
        },
        {
          "output_type": "display_data",
          "data": {
            "text/plain": [
              "<Figure size 432x288 with 1 Axes>"
            ],
            "image/png": "[encoded data removed]"
          },
          "metadata": {
            "needs_background": "light"
          }
        }
      ]
    },
    {
      "cell_type": "code",
      "source": [
        "# 중간 레이어 극단적으로 줄여보기\n",
        "\n",
        "model = models.Sequential()\n",
        "model.add(layers.Dense(64, activation='relu', input_shape=(10000,)))\n",
        "model.add(layers.Dense(4, activation='relu'))\n",
        "model.add(layers.Dense(46, activation='softmax'))\n",
        "\n",
        "model.compile(optimizer='rmsprop',\n",
        "              loss='categorical_crossentropy',\n",
        "              metrics=['accuracy'])\n",
        "\n",
        "history = model.fit(partial_x_train, \n",
        "                    partial_y_train,\n",
        "                    epochs=20,\n",
        "                    batch_size=512,\n",
        "                    validation_data=(x_val, y_val))"
      ],
      "metadata": {
        "colab": {
          "base_uri": "https://localhost:8080/"
        },
        "id": "1egX0RPMrixk",
        "outputId": "c6d13b70-28a5-4c01-a1cc-c204c6ea4ea1"
      },
      "execution_count": 98,
      "outputs": [
        {
          "output_type": "stream",
          "name": "stdout",
          "text": [
            "Epoch 1/20\n",
            "16/16 [==============================] - 3s 84ms/step - loss: 3.4797 - accuracy: 0.2917 - val_loss: 3.1386 - val_accuracy: 0.4000\n",
            "Epoch 2/20\n",
            "16/16 [==============================] - 1s 54ms/step - loss: 2.8314 - accuracy: 0.4189 - val_loss: 2.6804 - val_accuracy: 0.4120\n",
            "Epoch 3/20\n",
            "16/16 [==============================] - 1s 52ms/step - loss: 2.3913 - accuracy: 0.4392 - val_loss: 2.3647 - val_accuracy: 0.4360\n",
            "Epoch 4/20\n",
            "16/16 [==============================] - 1s 53ms/step - loss: 2.0777 - accuracy: 0.4659 - val_loss: 2.1429 - val_accuracy: 0.4640\n",
            "Epoch 5/20\n",
            "16/16 [==============================] - 1s 53ms/step - loss: 1.8276 - accuracy: 0.4911 - val_loss: 1.9503 - val_accuracy: 0.4710\n",
            "Epoch 6/20\n",
            "16/16 [==============================] - 1s 52ms/step - loss: 1.5963 - accuracy: 0.5867 - val_loss: 1.7601 - val_accuracy: 0.6440\n",
            "Epoch 7/20\n",
            "16/16 [==============================] - 1s 53ms/step - loss: 1.3879 - accuracy: 0.7191 - val_loss: 1.6287 - val_accuracy: 0.6680\n",
            "Epoch 8/20\n",
            "16/16 [==============================] - 1s 53ms/step - loss: 1.2316 - accuracy: 0.7303 - val_loss: 1.5111 - val_accuracy: 0.6790\n",
            "Epoch 9/20\n",
            "16/16 [==============================] - 1s 52ms/step - loss: 1.1230 - accuracy: 0.7370 - val_loss: 1.4646 - val_accuracy: 0.6810\n",
            "Epoch 10/20\n",
            "16/16 [==============================] - 1s 52ms/step - loss: 1.0473 - accuracy: 0.7413 - val_loss: 1.4200 - val_accuracy: 0.6790\n",
            "Epoch 11/20\n",
            "16/16 [==============================] - 1s 51ms/step - loss: 0.9860 - accuracy: 0.7469 - val_loss: 1.3847 - val_accuracy: 0.6870\n",
            "Epoch 12/20\n",
            "16/16 [==============================] - 1s 53ms/step - loss: 0.9336 - accuracy: 0.7568 - val_loss: 1.3844 - val_accuracy: 0.6880\n",
            "Epoch 13/20\n",
            "16/16 [==============================] - 1s 52ms/step - loss: 0.8867 - accuracy: 0.7615 - val_loss: 1.3926 - val_accuracy: 0.6870\n",
            "Epoch 14/20\n",
            "16/16 [==============================] - 1s 54ms/step - loss: 0.8434 - accuracy: 0.7690 - val_loss: 1.3642 - val_accuracy: 0.6970\n",
            "Epoch 15/20\n",
            "16/16 [==============================] - 1s 53ms/step - loss: 0.8031 - accuracy: 0.7745 - val_loss: 1.3597 - val_accuracy: 0.6940\n",
            "Epoch 16/20\n",
            "16/16 [==============================] - 1s 51ms/step - loss: 0.7660 - accuracy: 0.7851 - val_loss: 1.3641 - val_accuracy: 0.7030\n",
            "Epoch 17/20\n",
            "16/16 [==============================] - 1s 55ms/step - loss: 0.7357 - accuracy: 0.7925 - val_loss: 1.3838 - val_accuracy: 0.7020\n",
            "Epoch 18/20\n",
            "16/16 [==============================] - 1s 54ms/step - loss: 0.7058 - accuracy: 0.8009 - val_loss: 1.4003 - val_accuracy: 0.7030\n",
            "Epoch 19/20\n",
            "16/16 [==============================] - 1s 52ms/step - loss: 0.6763 - accuracy: 0.8066 - val_loss: 1.4216 - val_accuracy: 0.7000\n",
            "Epoch 20/20\n",
            "16/16 [==============================] - 1s 53ms/step - loss: 0.6540 - accuracy: 0.8093 - val_loss: 1.4233 - val_accuracy: 0.7020\n"
          ]
        }
      ]
    },
    {
      "cell_type": "code",
      "source": [
        "loss = history.history['loss']\n",
        "val_loss = history.history['val_loss']\n",
        "acc = history.history['accuracy']\n",
        "val_acc = history.history['val_accuracy']\n",
        "\n",
        "epochs = range(1, len(loss) + 1)\n",
        "\n",
        "plt.plot(epochs, loss, 'bo', label='Training Loss')\n",
        "plt.plot(epochs, val_loss, 'b-', label='Validation Loss')\n",
        "plt.title('Training and validation loss')\n",
        "plt.xlabel('Epochs')\n",
        "plt.ylabel('Loss')\n",
        "plt.legend()"
      ],
      "metadata": {
        "colab": {
          "base_uri": "https://localhost:8080/",
          "height": 313
        },
        "id": "_LBxzuRxtSNQ",
        "outputId": "903f2ca9-6d67-4fe1-d49a-9f502a709da5"
      },
      "execution_count": 99,
      "outputs": [
        {
          "output_type": "execute_result",
          "data": {
            "text/plain": [
              "<matplotlib.legend.Legend at 0x7fb5926c1890>"
            ]
          },
          "metadata": {},
          "execution_count": 99
        },
        {
          "output_type": "display_data",
          "data": {
            "text/plain": [
              "<Figure size 432x288 with 1 Axes>"
            ],
            "image/png": "[encoded data removed]"
          },
          "metadata": {
            "needs_background": "light"
          }
        }
      ]
    },
    {
      "cell_type": "code",
      "source": [
        "# 중간 레이어 극단적으로 늘려려보기\n",
        "\n",
        "model = models.Sequential()\n",
        "model.add(layers.Dense(64, activation='relu', input_shape=(10000,)))\n",
        "model.add(layers.Dense(1000, activation='relu'))\n",
        "model.add(layers.Dense(46, activation='softmax'))\n",
        "\n",
        "model.compile(optimizer='rmsprop',\n",
        "              loss='categorical_crossentropy',\n",
        "              metrics=['accuracy'])\n",
        "\n",
        "history = model.fit(partial_x_train, \n",
        "                    partial_y_train,\n",
        "                    epochs=20,\n",
        "                    batch_size=512,\n",
        "                    validation_data=(x_val, y_val))"
      ],
      "metadata": {
        "colab": {
          "base_uri": "https://localhost:8080/"
        },
        "id": "hJ4xHZdntaFL",
        "outputId": "6504e770-cdeb-47ef-9578-facc3eeddd71"
      },
      "execution_count": 100,
      "outputs": [
        {
          "output_type": "stream",
          "name": "stdout",
          "text": [
            "Epoch 1/20\n",
            "16/16 [==============================] - 3s 133ms/step - loss: 2.2160 - accuracy: 0.4861 - val_loss: 1.4435 - val_accuracy: 0.6580\n",
            "Epoch 2/20\n",
            "16/16 [==============================] - 1s 64ms/step - loss: 1.2431 - accuracy: 0.7100 - val_loss: 1.1779 - val_accuracy: 0.7180\n",
            "Epoch 3/20\n",
            "16/16 [==============================] - 1s 64ms/step - loss: 0.9130 - accuracy: 0.7900 - val_loss: 1.0705 - val_accuracy: 0.7540\n",
            "Epoch 4/20\n",
            "16/16 [==============================] - 1s 65ms/step - loss: 0.7115 - accuracy: 0.8284 - val_loss: 0.9571 - val_accuracy: 0.7840\n",
            "Epoch 5/20\n",
            "16/16 [==============================] - 1s 66ms/step - loss: 0.5369 - accuracy: 0.8661 - val_loss: 0.9608 - val_accuracy: 0.7920\n",
            "Epoch 6/20\n",
            "16/16 [==============================] - 1s 64ms/step - loss: 0.4179 - accuracy: 0.8986 - val_loss: 0.9029 - val_accuracy: 0.8120\n",
            "Epoch 7/20\n",
            "16/16 [==============================] - 1s 65ms/step - loss: 0.3197 - accuracy: 0.9242 - val_loss: 0.9981 - val_accuracy: 0.7940\n",
            "Epoch 8/20\n",
            "16/16 [==============================] - 1s 65ms/step - loss: 0.2481 - accuracy: 0.9379 - val_loss: 0.9777 - val_accuracy: 0.8060\n",
            "Epoch 9/20\n",
            "16/16 [==============================] - 1s 64ms/step - loss: 0.2060 - accuracy: 0.9453 - val_loss: 1.0332 - val_accuracy: 0.7890\n",
            "Epoch 10/20\n",
            "16/16 [==============================] - 1s 64ms/step - loss: 0.1746 - accuracy: 0.9506 - val_loss: 1.0248 - val_accuracy: 0.8000\n",
            "Epoch 11/20\n",
            "16/16 [==============================] - 1s 64ms/step - loss: 0.1565 - accuracy: 0.9544 - val_loss: 1.0355 - val_accuracy: 0.8050\n",
            "Epoch 12/20\n",
            "16/16 [==============================] - 1s 64ms/step - loss: 0.1401 - accuracy: 0.9578 - val_loss: 1.0861 - val_accuracy: 0.7900\n",
            "Epoch 13/20\n",
            "16/16 [==============================] - 2s 129ms/step - loss: 0.1303 - accuracy: 0.9550 - val_loss: 1.1552 - val_accuracy: 0.7940\n",
            "Epoch 14/20\n",
            "16/16 [==============================] - 1s 75ms/step - loss: 0.1272 - accuracy: 0.9583 - val_loss: 1.1132 - val_accuracy: 0.8000\n",
            "Epoch 15/20\n",
            "16/16 [==============================] - 2s 123ms/step - loss: 0.1209 - accuracy: 0.9575 - val_loss: 1.0549 - val_accuracy: 0.7990\n",
            "Epoch 16/20\n",
            "16/16 [==============================] - 2s 156ms/step - loss: 0.1126 - accuracy: 0.9573 - val_loss: 1.0310 - val_accuracy: 0.8070\n",
            "Epoch 17/20\n",
            "16/16 [==============================] - 2s 154ms/step - loss: 0.1080 - accuracy: 0.9583 - val_loss: 1.2043 - val_accuracy: 0.7940\n",
            "Epoch 18/20\n",
            "16/16 [==============================] - 2s 109ms/step - loss: 0.1069 - accuracy: 0.9569 - val_loss: 1.1931 - val_accuracy: 0.7920\n",
            "Epoch 19/20\n",
            "16/16 [==============================] - 1s 64ms/step - loss: 0.1073 - accuracy: 0.9574 - val_loss: 1.1190 - val_accuracy: 0.7990\n",
            "Epoch 20/20\n",
            "16/16 [==============================] - 1s 63ms/step - loss: 0.0999 - accuracy: 0.9572 - val_loss: 1.1296 - val_accuracy: 0.8040\n"
          ]
        }
      ]
    },
    {
      "cell_type": "code",
      "source": [
        "loss = history.history['loss']\n",
        "val_loss = history.history['val_loss']\n",
        "acc = history.history['accuracy']\n",
        "val_acc = history.history['val_accuracy']\n",
        "\n",
        "epochs = range(1, len(loss) + 1)\n",
        "\n",
        "plt.plot(epochs, loss, 'bo', label='Training Loss')\n",
        "plt.plot(epochs, val_loss, 'b-', label='Validation Loss')\n",
        "plt.title('Training and validation loss')\n",
        "plt.xlabel('Epochs')\n",
        "plt.ylabel('Loss')\n",
        "plt.legend()"
      ],
      "metadata": {
        "colab": {
          "base_uri": "https://localhost:8080/",
          "height": 313
        },
        "id": "0m_HqVDjt9Ql",
        "outputId": "3c7b8b10-eb4b-438f-800c-4dbcf80d23ef"
      },
      "execution_count": 101,
      "outputs": [
        {
          "output_type": "execute_result",
          "data": {
            "text/plain": [
              "<matplotlib.legend.Legend at 0x7fb592347150>"
            ]
          },
          "metadata": {},
          "execution_count": 101
        },
        {
          "output_type": "display_data",
          "data": {
            "text/plain": [
              "<Figure size 432x288 with 1 Axes>"
            ],
            "image/png": "[encoded data removed]"
          },
          "metadata": {
            "needs_background": "light"
          }
        }
      ]
    }
  ]
}