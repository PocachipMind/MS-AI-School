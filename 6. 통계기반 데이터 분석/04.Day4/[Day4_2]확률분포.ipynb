{
  "nbformat": 4,
  "nbformat_minor": 0,
  "metadata": {
    "colab": {
      "provenance": [],
      "authorship_tag": "ABX9TyN8DoO5lCNzYcb9WeLrEFYU",
      "include_colab_link": true
    },
    "kernelspec": {
      "name": "python3",
      "display_name": "Python 3"
    },
    "language_info": {
      "name": "python"
    }
  },
  "cells": [
    {
      "cell_type": "markdown",
      "metadata": {
        "id": "view-in-github",
        "colab_type": "text"
      },
      "source": [
        "<a href=\"https://colab.research.google.com/github/PocachipMind/MS-AI-School/blob/main/6.%20%ED%86%B5%EA%B3%84%EA%B8%B0%EB%B0%98%20%EB%8D%B0%EC%9D%B4%ED%84%B0%20%EB%B6%84%EC%84%9D/04.Day4/%5BDay4_2%5D%ED%99%95%EB%A5%A0%EB%B6%84%ED%8F%AC.ipynb\" target=\"_parent\"><img src=\"https://colab.research.google.com/assets/colab-badge.svg\" alt=\"Open In Colab\"/></a>"
      ]
    },
    {
      "cell_type": "code",
      "source": [
        "# 한글화\n",
        "!pip install koreanize-matplotlib\n",
        "import koreanize_matplotlib\n",
        "import matplotlib.pyplot as plt\n",
        "import numpy as np\n",
        "import seaborn as sns\n",
        "import pandas as pd"
      ],
      "metadata": {
        "colab": {
          "base_uri": "https://localhost:8080/"
        },
        "id": "NedpjquukVy1",
        "outputId": "c2073e1d-09b9-47cf-a201-680ee2ec2f44"
      },
      "execution_count": null,
      "outputs": [
        {
          "output_type": "stream",
          "name": "stdout",
          "text": [
            "Looking in indexes: https://pypi.org/simple, https://us-python.pkg.dev/colab-wheels/public/simple/\n",
            "Requirement already satisfied: koreanize-matplotlib in /usr/local/lib/python3.7/dist-packages (0.0.1)\n",
            "Requirement already satisfied: matplotlib in /usr/local/lib/python3.7/dist-packages (from koreanize-matplotlib) (3.2.2)\n",
            "Requirement already satisfied: cycler>=0.10 in /usr/local/lib/python3.7/dist-packages (from matplotlib->koreanize-matplotlib) (0.11.0)\n",
            "Requirement already satisfied: kiwisolver>=1.0.1 in /usr/local/lib/python3.7/dist-packages (from matplotlib->koreanize-matplotlib) (1.4.4)\n",
            "Requirement already satisfied: numpy>=1.11 in /usr/local/lib/python3.7/dist-packages (from matplotlib->koreanize-matplotlib) (1.21.6)\n",
            "Requirement already satisfied: pyparsing!=2.0.4,!=2.1.2,!=2.1.6,>=2.0.1 in /usr/local/lib/python3.7/dist-packages (from matplotlib->koreanize-matplotlib) (3.0.9)\n",
            "Requirement already satisfied: python-dateutil>=2.1 in /usr/local/lib/python3.7/dist-packages (from matplotlib->koreanize-matplotlib) (2.8.2)\n",
            "Requirement already satisfied: typing-extensions in /usr/local/lib/python3.7/dist-packages (from kiwisolver>=1.0.1->matplotlib->koreanize-matplotlib) (4.1.1)\n",
            "Requirement already satisfied: six>=1.5 in /usr/local/lib/python3.7/dist-packages (from python-dateutil>=2.1->matplotlib->koreanize-matplotlib) (1.15.0)\n"
          ]
        }
      ]
    },
    {
      "cell_type": "markdown",
      "source": [
        "# 확률분포의 종류 \n",
        "불러올 때 아래의 영문으로 불러옴\n",
        "\n",
        "- 베르누이 분포\n",
        "      bernoulli\n",
        "      베르누이 실험 :결과가 두개 밖에 없는 실험 (ex : 동전)\n",
        "      베르누이의 확률변수 : 이산확률변수 {0,1}, {-1,1}\n",
        "$$Bern(x;μ)={μ^x}{(1-μ)^{(1-x)}}$$\n",
        "- 이항분포\n",
        "      binom\n",
        "- 다항분포\n",
        "      multinomial\n",
        "- 정규분포\n",
        "      norm\n",
        "- 균일분포\n",
        "      uniform\n",
        "- 베타분포\n",
        "      beta\n",
        "- 감마분포\n",
        "      gamma\n",
        "- t - 분포\n",
        "      t\n",
        "- 카이제곱분포\n",
        "      chi2"
      ],
      "metadata": {
        "id": "K23YU-6ch73h"
      }
    },
    {
      "cell_type": "markdown",
      "source": [
        "## 모수 지정\n",
        "평균, 편차\n",
        "\n",
        "분포의 기대값, 표준편차"
      ],
      "metadata": {
        "id": "_T1ew2ZQi9GX"
      }
    },
    {
      "cell_type": "markdown",
      "source": [
        "pdf : 확률밀도함수\n",
        "\n",
        "pmf : 확률질량함수\n",
        "\n",
        "cdf : 누적확률밀도함수\n",
        "\n",
        "ppf : cdf의 역함수\n"
      ],
      "metadata": {
        "id": "Cv8MzqxijiFK"
      }
    },
    {
      "cell_type": "code",
      "execution_count": null,
      "metadata": {
        "id": "Xocjm2U1h0Ep"
      },
      "outputs": [],
      "source": [
        "import scipy.stats\n",
        "import scipy as sp\n",
        "\n",
        "rv = scipy.stats.norm(1, 2) # 1이 평균, 2가 표준편차"
      ]
    },
    {
      "cell_type": "code",
      "source": [
        "x = np.linspace(-10, 10, 200)\n",
        "pdf = rv.pdf(x)\n",
        "plt.plot(x, pdf)\n",
        "plt.title('확률밀도함수')\n",
        "plt.grid()\n",
        "plt.show()"
      ],
      "metadata": {
        "colab": {
          "base_uri": "https://localhost:8080/",
          "height": 279
        },
        "id": "Kb-ukXgojXHR",
        "outputId": "31d9b632-7838-4b14-c184-d159e2a3df2d"
      },
      "execution_count": null,
      "outputs": [
        {
          "output_type": "display_data",
          "data": {
            "text/plain": [
              "<Figure size 432x288 with 1 Axes>"
            ],
            "image/png": "[encoded data removed]"
          },
          "metadata": {
            "needs_background": "light"
          }
        }
      ]
    },
    {
      "cell_type": "code",
      "source": [
        "cdf = rv.cdf(x)\n",
        "plt.plot(x, cdf)\n",
        "plt.title('누적확률밀도함수')\n",
        "plt.grid()\n",
        "plt.show()"
      ],
      "metadata": {
        "colab": {
          "base_uri": "https://localhost:8080/",
          "height": 279
        },
        "id": "kdA3QtL0k2AS",
        "outputId": "b48de300-b6df-4868-cd2c-8469a37426a1"
      },
      "execution_count": null,
      "outputs": [
        {
          "output_type": "display_data",
          "data": {
            "text/plain": [
              "<Figure size 432x288 with 1 Axes>"
            ],
            "image/png": "[encoded data removed]"
          },
          "metadata": {
            "needs_background": "light"
          }
        }
      ]
    },
    {
      "cell_type": "code",
      "source": [
        "# random value sampling\n",
        "sns.distplot(rv.rvs(size=10000, random_state=0))\n",
        "plt.title('랜덤 표본 그래프')\n",
        "plt.xlabel('표본값')\n",
        "plt.ylabel('count')\n",
        "plt.show()"
      ],
      "metadata": {
        "colab": {
          "base_uri": "https://localhost:8080/",
          "height": 349
        },
        "id": "AUb5lPZQlc_s",
        "outputId": "22811207-bcd6-47ef-ca37-3ce36782df92"
      },
      "execution_count": null,
      "outputs": [
        {
          "output_type": "stream",
          "name": "stderr",
          "text": [
            "/usr/local/lib/python3.7/dist-packages/seaborn/distributions.py:2619: FutureWarning: `distplot` is a deprecated function and will be removed in a future version. Please adapt your code to use either `displot` (a figure-level function with similar flexibility) or `histplot` (an axes-level function for histograms).\n",
            "  warnings.warn(msg, FutureWarning)\n"
          ]
        },
        {
          "output_type": "display_data",
          "data": {
            "text/plain": [
              "<Figure size 432x288 with 1 Axes>"
            ],
            "image/png": "[encoded data removed]"
          },
          "metadata": {
            "needs_background": "light"
          }
        }
      ]
    },
    {
      "cell_type": "markdown",
      "source": [
        "변환 확률 변수의 시뮬레이션"
      ],
      "metadata": {
        "id": "XZb1FfcUoHfc"
      }
    },
    {
      "cell_type": "code",
      "source": [
        "rv1 = sp.stats.uniform()\n",
        "rv2 = sp.stats.uniform()\n",
        "\n",
        "np.random.seed(0)\n",
        "N = 50000\n",
        "x_1 = rv1.rvs(N)\n",
        "x_2 = rv2.rvs(N)\n",
        "\n",
        "x_3 = x_1 + x_2\n",
        "\n",
        "plt.subplot(131)\n",
        "sns.distplot(x_1, kde=False) # 누적밀도 함수 그릴 지 kde를 통해\n",
        "plt.grid()\n",
        "plt.title('균일분포')\n",
        "plt.xlabel('표본값')\n",
        "\n",
        "plt.subplot(132)\n",
        "sns.distplot(x_2, kde=False)\n",
        "plt.grid()\n",
        "plt.title('균일분포')\n",
        "plt.xlabel('표본값')\n",
        "\n",
        "plt.subplot(133)\n",
        "sns.distplot(x_3, kde=False)\n",
        "plt.title('균일분포 표본의 합의 분포')\n",
        "plt.grid()\n",
        "plt.tight_layout()\n",
        "plt.show()"
      ],
      "metadata": {
        "colab": {
          "base_uri": "https://localhost:8080/",
          "height": 353
        },
        "id": "DXeQnoi8nEgQ",
        "outputId": "fdf4671d-d6ec-4c4a-954e-a3e50687501b"
      },
      "execution_count": null,
      "outputs": [
        {
          "output_type": "stream",
          "name": "stderr",
          "text": [
            "/usr/local/lib/python3.7/dist-packages/seaborn/distributions.py:2619: FutureWarning: `distplot` is a deprecated function and will be removed in a future version. Please adapt your code to use either `displot` (a figure-level function with similar flexibility) or `histplot` (an axes-level function for histograms).\n",
            "  warnings.warn(msg, FutureWarning)\n"
          ]
        },
        {
          "output_type": "display_data",
          "data": {
            "text/plain": [
              "<Figure size 432x288 with 3 Axes>"
            ],
            "image/png": "[encoded data removed]"
          },
          "metadata": {
            "needs_background": "light"
          }
        }
      ]
    },
    {
      "cell_type": "markdown",
      "source": [
        "### 베르누이 분포\n",
        "      bernoulli\n",
        "      베르누이 실험 : 결과가 두개 밖에 없는 실험(동전)\n",
        "      베르누이의 확률변수 : 이산확률변수 {0,1}, {-1,1}\n",
        "$$Bern(x;μ)={μ^x}{(1-μ)^{(1-x)}}$$"
      ],
      "metadata": {
        "id": "g4jF18wCqkcM"
      }
    },
    {
      "cell_type": "code",
      "source": [
        "mu = 0.6\n",
        "rv = scipy.stats.bernoulli(mu)\n",
        "rv"
      ],
      "metadata": {
        "colab": {
          "base_uri": "https://localhost:8080/"
        },
        "id": "MtLU4ZTwoTvP",
        "outputId": "8eddc3ba-e69a-46d4-a225-ab4a80dee827"
      },
      "execution_count": null,
      "outputs": [
        {
          "output_type": "execute_result",
          "data": {
            "text/plain": [
              "<scipy.stats._distn_infrastructure.rv_frozen at 0x7f9befbc8410>"
            ]
          },
          "metadata": {},
          "execution_count": 116
        }
      ]
    },
    {
      "cell_type": "code",
      "source": [
        "x = [ 0, 1]\n",
        "plt.bar(x, rv.pmf(x))\n",
        "plt.xticks([0,1], ['x=0','x=1'])\n",
        "plt.grid()\n",
        "plt.xlabel('표본값')\n",
        "plt.title('베르누이 확률 질량 함수')\n",
        "plt.show() # 1이 앞면나올 확률률"
      ],
      "metadata": {
        "colab": {
          "base_uri": "https://localhost:8080/",
          "height": 293
        },
        "id": "DX92MlGBq43f",
        "outputId": "f18bb3d4-5344-4046-a77c-4ca1a4f2e811"
      },
      "execution_count": null,
      "outputs": [
        {
          "output_type": "display_data",
          "data": {
            "text/plain": [
              "<Figure size 432x288 with 1 Axes>"
            ],
            "image/png": "[encoded data removed]"
          },
          "metadata": {
            "needs_background": "light"
          }
        }
      ]
    },
    {
      "cell_type": "code",
      "source": [
        "x = rv.rvs(100, random_state=0)\n",
        "x"
      ],
      "metadata": {
        "colab": {
          "base_uri": "https://localhost:8080/"
        },
        "id": "WnKK8q05rHCh",
        "outputId": "2c00cf9c-e698-4f2b-8a05-cec805e738f5"
      },
      "execution_count": null,
      "outputs": [
        {
          "output_type": "execute_result",
          "data": {
            "text/plain": [
              "array([1, 0, 0, 1, 1, 0, 1, 0, 0, 1, 0, 1, 1, 0, 1, 1, 1, 0, 0, 0, 0, 0,\n",
              "       1, 0, 1, 0, 1, 0, 1, 1, 1, 0, 1, 1, 1, 0, 0, 0, 0, 0, 1, 1, 0, 1,\n",
              "       0, 0, 1, 1, 1, 1, 1, 1, 0, 1, 1, 1, 0, 1, 1, 1, 1, 1, 0, 1, 1, 1,\n",
              "       0, 1, 0, 1, 0, 1, 0, 0, 0, 1, 1, 1, 1, 1, 1, 1, 1, 0, 1, 1, 1, 1,\n",
              "       1, 0, 1, 0, 1, 0, 1, 1, 1, 1, 0, 1])"
            ]
          },
          "metadata": {},
          "execution_count": 118
        }
      ]
    },
    {
      "cell_type": "code",
      "source": [
        "sns.countplot(x) # 횟수를 그려주는거\n",
        "plt.title('베르누이의 확률변수 시뮬레이션')\n",
        "plt.xlabel('표본값')\n",
        "plt.grid()\n",
        "plt.show()"
      ],
      "metadata": {
        "colab": {
          "base_uri": "https://localhost:8080/",
          "height": 349
        },
        "id": "4kNcIQUYrlfQ",
        "outputId": "04c4e799-9d6f-4116-e66f-8c537d2b92e0"
      },
      "execution_count": null,
      "outputs": [
        {
          "output_type": "stream",
          "name": "stderr",
          "text": [
            "/usr/local/lib/python3.7/dist-packages/seaborn/_decorators.py:43: FutureWarning: Pass the following variable as a keyword arg: x. From version 0.12, the only valid positional argument will be `data`, and passing other arguments without an explicit keyword will result in an error or misinterpretation.\n",
            "  FutureWarning\n"
          ]
        },
        {
          "output_type": "display_data",
          "data": {
            "text/plain": [
              "<Figure size 432x288 with 1 Axes>"
            ],
            "image/png": "[encoded data removed]"
          },
          "metadata": {
            "needs_background": "light"
          }
        }
      ]
    },
    {
      "cell_type": "code",
      "source": [
        "y = np.bincount(x, minlength=2)/float(len(x))\n",
        "df = pd.DataFrame({'이론':rv.pmf([0,1]), '시뮬레이션' : y})\n",
        "df.index = [0,1]\n",
        "df"
      ],
      "metadata": {
        "colab": {
          "base_uri": "https://localhost:8080/",
          "height": 112
        },
        "id": "eVeB7NP9r6eq",
        "outputId": "83fdc9aa-1e90-49ab-e9b6-e869895c32dc"
      },
      "execution_count": null,
      "outputs": [
        {
          "output_type": "execute_result",
          "data": {
            "text/plain": [
              "    이론  시뮬레이션\n",
              "0  0.4   0.38\n",
              "1  0.6   0.62"
            ],
            "text/html": [
              "\n",
              "  <div id=\"df-7c085f42-b28c-4570-bbf2-b8483d09c0ed\">\n",
              "    <div class=\"colab-df-container\">\n",
              "      <div>\n",
              "<style scoped>\n",
              "    .dataframe tbody tr th:only-of-type {\n",
              "        vertical-align: middle;\n",
              "    }\n",
              "\n",
              "    .dataframe tbody tr th {\n",
              "        vertical-align: top;\n",
              "    }\n",
              "\n",
              "    .dataframe thead th {\n",
              "        text-align: right;\n",
              "    }\n",
              "</style>\n",
              "<table border=\"1\" class=\"dataframe\">\n",
              "  <thead>\n",
              "    <tr style=\"text-align: right;\">\n",
              "      <th></th>\n",
              "      <th>이론</th>\n",
              "      <th>시뮬레이션</th>\n",
              "    </tr>\n",
              "  </thead>\n",
              "  <tbody>\n",
              "    <tr>\n",
              "      <th>0</th>\n",
              "      <td>0.4</td>\n",
              "      <td>0.38</td>\n",
              "    </tr>\n",
              "    <tr>\n",
              "      <th>1</th>\n",
              "      <td>0.6</td>\n",
              "      <td>0.62</td>\n",
              "    </tr>\n",
              "  </tbody>\n",
              "</table>\n",
              "</div>\n",
              "      <button class=\"colab-df-convert\" onclick=\"convertToInteractive('df-7c085f42-b28c-4570-bbf2-b8483d09c0ed')\"\n",
              "              title=\"Convert this dataframe to an interactive table.\"\n",
              "              style=\"display:none;\">\n",
              "        \n",
              "  <svg xmlns=\"http://www.w3.org/2000/svg\" height=\"24px\"viewBox=\"0 0 24 24\"\n",
              "       width=\"24px\">\n",
              "    <path d=\"M0 0h24v24H0V0z\" fill=\"none\"/>\n",
              "    <path d=\"M18.56 5.44l.94 2.06.94-2.06 2.06-.94-2.06-.94-.94-2.06-.94 2.06-2.06.94zm-11 1L8.5 8.5l.94-2.06 2.06-.94-2.06-.94L8.5 2.5l-.94 2.06-2.06.94zm10 10l.94 2.06.94-2.06 2.06-.94-2.06-.94-.94-2.06-.94 2.06-2.06.94z\"/><path d=\"M17.41 7.96l-1.37-1.37c-.4-.4-.92-.59-1.43-.59-.52 0-1.04.2-1.43.59L10.3 9.45l-7.72 7.72c-.78.78-.78 2.05 0 2.83L4 21.41c.39.39.9.59 1.41.59.51 0 1.02-.2 1.41-.59l7.78-7.78 2.81-2.81c.8-.78.8-2.07 0-2.86zM5.41 20L4 18.59l7.72-7.72 1.47 1.35L5.41 20z\"/>\n",
              "  </svg>\n",
              "      </button>\n",
              "      \n",
              "  <style>\n",
              "    .colab-df-container {\n",
              "      display:flex;\n",
              "      flex-wrap:wrap;\n",
              "      gap: 12px;\n",
              "    }\n",
              "\n",
              "    .colab-df-convert {\n",
              "      background-color: #E8F0FE;\n",
              "      border: none;\n",
              "      border-radius: 50%;\n",
              "      cursor: pointer;\n",
              "      display: none;\n",
              "      fill: #1967D2;\n",
              "      height: 32px;\n",
              "      padding: 0 0 0 0;\n",
              "      width: 32px;\n",
              "    }\n",
              "\n",
              "    .colab-df-convert:hover {\n",
              "      background-color: #E2EBFA;\n",
              "      box-shadow: 0px 1px 2px rgba(60, 64, 67, 0.3), 0px 1px 3px 1px rgba(60, 64, 67, 0.15);\n",
              "      fill: #174EA6;\n",
              "    }\n",
              "\n",
              "    [theme=dark] .colab-df-convert {\n",
              "      background-color: #3B4455;\n",
              "      fill: #D2E3FC;\n",
              "    }\n",
              "\n",
              "    [theme=dark] .colab-df-convert:hover {\n",
              "      background-color: #434B5C;\n",
              "      box-shadow: 0px 1px 3px 1px rgba(0, 0, 0, 0.15);\n",
              "      filter: drop-shadow(0px 1px 2px rgba(0, 0, 0, 0.3));\n",
              "      fill: #FFFFFF;\n",
              "    }\n",
              "  </style>\n",
              "\n",
              "      <script>\n",
              "        const buttonEl =\n",
              "          document.querySelector('#df-7c085f42-b28c-4570-bbf2-b8483d09c0ed button.colab-df-convert');\n",
              "        buttonEl.style.display =\n",
              "          google.colab.kernel.accessAllowed ? 'block' : 'none';\n",
              "\n",
              "        async function convertToInteractive(key) {\n",
              "          const element = document.querySelector('#df-7c085f42-b28c-4570-bbf2-b8483d09c0ed');\n",
              "          const dataTable =\n",
              "            await google.colab.kernel.invokeFunction('convertToInteractive',\n",
              "                                                     [key], {});\n",
              "          if (!dataTable) return;\n",
              "\n",
              "          const docLinkHtml = 'Like what you see? Visit the ' +\n",
              "            '<a target=\"_blank\" href=https://colab.research.google.com/notebooks/data_table.ipynb>data table notebook</a>'\n",
              "            + ' to learn more about interactive tables.';\n",
              "          element.innerHTML = '';\n",
              "          dataTable['output_type'] = 'display_data';\n",
              "          await google.colab.output.renderOutput(dataTable, element);\n",
              "          const docLink = document.createElement('div');\n",
              "          docLink.innerHTML = docLinkHtml;\n",
              "          element.appendChild(docLink);\n",
              "        }\n",
              "      </script>\n",
              "    </div>\n",
              "  </div>\n",
              "  "
            ]
          },
          "metadata": {},
          "execution_count": 120
        }
      ]
    },
    {
      "cell_type": "code",
      "source": [
        "for i in range(200):\n",
        "  x = rv.rvs(i, random_state=0)\n",
        "  y = np.bincount(x, minlength=2)/float(len(x))\n",
        "  print(f'표본 수가 {i}개 일 때','이론값 :',rv.pmf([0,1]), '표본값 :', y)"
      ],
      "metadata": {
        "colab": {
          "base_uri": "https://localhost:8080/"
        },
        "id": "6qfsoNW7siwU",
        "outputId": "7d0c36a0-f6ed-44b7-f59d-50686394b233"
      },
      "execution_count": null,
      "outputs": [
        {
          "output_type": "stream",
          "name": "stderr",
          "text": [
            "/usr/local/lib/python3.7/dist-packages/ipykernel_launcher.py:3: RuntimeWarning: invalid value encountered in true_divide\n",
            "  This is separate from the ipykernel package so we can avoid doing imports until\n"
          ]
        },
        {
          "output_type": "stream",
          "name": "stdout",
          "text": [
            "표본 수가 0개 일 때 이론값 : [0.4 0.6] 표본값 : [nan nan]\n",
            "표본 수가 1개 일 때 이론값 : [0.4 0.6] 표본값 : [0. 1.]\n",
            "표본 수가 2개 일 때 이론값 : [0.4 0.6] 표본값 : [0.5 0.5]\n",
            "표본 수가 3개 일 때 이론값 : [0.4 0.6] 표본값 : [0.66666667 0.33333333]\n",
            "표본 수가 4개 일 때 이론값 : [0.4 0.6] 표본값 : [0.5 0.5]\n",
            "표본 수가 5개 일 때 이론값 : [0.4 0.6] 표본값 : [0.4 0.6]\n",
            "표본 수가 6개 일 때 이론값 : [0.4 0.6] 표본값 : [0.5 0.5]\n",
            "표본 수가 7개 일 때 이론값 : [0.4 0.6] 표본값 : [0.42857143 0.57142857]\n",
            "표본 수가 8개 일 때 이론값 : [0.4 0.6] 표본값 : [0.5 0.5]\n",
            "표본 수가 9개 일 때 이론값 : [0.4 0.6] 표본값 : [0.55555556 0.44444444]\n",
            "표본 수가 10개 일 때 이론값 : [0.4 0.6] 표본값 : [0.5 0.5]\n",
            "표본 수가 11개 일 때 이론값 : [0.4 0.6] 표본값 : [0.54545455 0.45454545]\n",
            "표본 수가 12개 일 때 이론값 : [0.4 0.6] 표본값 : [0.5 0.5]\n",
            "표본 수가 13개 일 때 이론값 : [0.4 0.6] 표본값 : [0.46153846 0.53846154]\n",
            "표본 수가 14개 일 때 이론값 : [0.4 0.6] 표본값 : [0.5 0.5]\n",
            "표본 수가 15개 일 때 이론값 : [0.4 0.6] 표본값 : [0.46666667 0.53333333]\n",
            "표본 수가 16개 일 때 이론값 : [0.4 0.6] 표본값 : [0.4375 0.5625]\n",
            "표본 수가 17개 일 때 이론값 : [0.4 0.6] 표본값 : [0.41176471 0.58823529]\n",
            "표본 수가 18개 일 때 이론값 : [0.4 0.6] 표본값 : [0.44444444 0.55555556]\n",
            "표본 수가 19개 일 때 이론값 : [0.4 0.6] 표본값 : [0.47368421 0.52631579]\n",
            "표본 수가 20개 일 때 이론값 : [0.4 0.6] 표본값 : [0.5 0.5]\n",
            "표본 수가 21개 일 때 이론값 : [0.4 0.6] 표본값 : [0.52380952 0.47619048]\n",
            "표본 수가 22개 일 때 이론값 : [0.4 0.6] 표본값 : [0.54545455 0.45454545]\n",
            "표본 수가 23개 일 때 이론값 : [0.4 0.6] 표본값 : [0.52173913 0.47826087]\n",
            "표본 수가 24개 일 때 이론값 : [0.4 0.6] 표본값 : [0.54166667 0.45833333]\n",
            "표본 수가 25개 일 때 이론값 : [0.4 0.6] 표본값 : [0.52 0.48]\n",
            "표본 수가 26개 일 때 이론값 : [0.4 0.6] 표본값 : [0.53846154 0.46153846]\n",
            "표본 수가 27개 일 때 이론값 : [0.4 0.6] 표본값 : [0.51851852 0.48148148]\n",
            "표본 수가 28개 일 때 이론값 : [0.4 0.6] 표본값 : [0.53571429 0.46428571]\n",
            "표본 수가 29개 일 때 이론값 : [0.4 0.6] 표본값 : [0.51724138 0.48275862]\n",
            "표본 수가 30개 일 때 이론값 : [0.4 0.6] 표본값 : [0.5 0.5]\n",
            "표본 수가 31개 일 때 이론값 : [0.4 0.6] 표본값 : [0.48387097 0.51612903]\n",
            "표본 수가 32개 일 때 이론값 : [0.4 0.6] 표본값 : [0.5 0.5]\n",
            "표본 수가 33개 일 때 이론값 : [0.4 0.6] 표본값 : [0.48484848 0.51515152]\n",
            "표본 수가 34개 일 때 이론값 : [0.4 0.6] 표본값 : [0.47058824 0.52941176]\n",
            "표본 수가 35개 일 때 이론값 : [0.4 0.6] 표본값 : [0.45714286 0.54285714]\n",
            "표본 수가 36개 일 때 이론값 : [0.4 0.6] 표본값 : [0.47222222 0.52777778]\n",
            "표본 수가 37개 일 때 이론값 : [0.4 0.6] 표본값 : [0.48648649 0.51351351]\n",
            "표본 수가 38개 일 때 이론값 : [0.4 0.6] 표본값 : [0.5 0.5]\n",
            "표본 수가 39개 일 때 이론값 : [0.4 0.6] 표본값 : [0.51282051 0.48717949]\n",
            "표본 수가 40개 일 때 이론값 : [0.4 0.6] 표본값 : [0.525 0.475]\n",
            "표본 수가 41개 일 때 이론값 : [0.4 0.6] 표본값 : [0.51219512 0.48780488]\n",
            "표본 수가 42개 일 때 이론값 : [0.4 0.6] 표본값 : [0.5 0.5]\n",
            "표본 수가 43개 일 때 이론값 : [0.4 0.6] 표본값 : [0.51162791 0.48837209]\n",
            "표본 수가 44개 일 때 이론값 : [0.4 0.6] 표본값 : [0.5 0.5]\n",
            "표본 수가 45개 일 때 이론값 : [0.4 0.6] 표본값 : [0.51111111 0.48888889]\n",
            "표본 수가 46개 일 때 이론값 : [0.4 0.6] 표본값 : [0.52173913 0.47826087]\n",
            "표본 수가 47개 일 때 이론값 : [0.4 0.6] 표본값 : [0.5106383 0.4893617]\n",
            "표본 수가 48개 일 때 이론값 : [0.4 0.6] 표본값 : [0.5 0.5]\n",
            "표본 수가 49개 일 때 이론값 : [0.4 0.6] 표본값 : [0.48979592 0.51020408]\n",
            "표본 수가 50개 일 때 이론값 : [0.4 0.6] 표본값 : [0.48 0.52]\n",
            "표본 수가 51개 일 때 이론값 : [0.4 0.6] 표본값 : [0.47058824 0.52941176]\n",
            "표본 수가 52개 일 때 이론값 : [0.4 0.6] 표본값 : [0.46153846 0.53846154]\n",
            "표본 수가 53개 일 때 이론값 : [0.4 0.6] 표본값 : [0.47169811 0.52830189]\n",
            "표본 수가 54개 일 때 이론값 : [0.4 0.6] 표본값 : [0.46296296 0.53703704]\n",
            "표본 수가 55개 일 때 이론값 : [0.4 0.6] 표본값 : [0.45454545 0.54545455]\n",
            "표본 수가 56개 일 때 이론값 : [0.4 0.6] 표본값 : [0.44642857 0.55357143]\n",
            "표본 수가 57개 일 때 이론값 : [0.4 0.6] 표본값 : [0.45614035 0.54385965]\n",
            "표본 수가 58개 일 때 이론값 : [0.4 0.6] 표본값 : [0.44827586 0.55172414]\n",
            "표본 수가 59개 일 때 이론값 : [0.4 0.6] 표본값 : [0.44067797 0.55932203]\n",
            "표본 수가 60개 일 때 이론값 : [0.4 0.6] 표본값 : [0.43333333 0.56666667]\n",
            "표본 수가 61개 일 때 이론값 : [0.4 0.6] 표본값 : [0.42622951 0.57377049]\n",
            "표본 수가 62개 일 때 이론값 : [0.4 0.6] 표본값 : [0.41935484 0.58064516]\n",
            "표본 수가 63개 일 때 이론값 : [0.4 0.6] 표본값 : [0.42857143 0.57142857]\n",
            "표본 수가 64개 일 때 이론값 : [0.4 0.6] 표본값 : [0.421875 0.578125]\n",
            "표본 수가 65개 일 때 이론값 : [0.4 0.6] 표본값 : [0.41538462 0.58461538]\n",
            "표본 수가 66개 일 때 이론값 : [0.4 0.6] 표본값 : [0.40909091 0.59090909]\n",
            "표본 수가 67개 일 때 이론값 : [0.4 0.6] 표본값 : [0.41791045 0.58208955]\n",
            "표본 수가 68개 일 때 이론값 : [0.4 0.6] 표본값 : [0.41176471 0.58823529]\n",
            "표본 수가 69개 일 때 이론값 : [0.4 0.6] 표본값 : [0.42028986 0.57971014]\n",
            "표본 수가 70개 일 때 이론값 : [0.4 0.6] 표본값 : [0.41428571 0.58571429]\n",
            "표본 수가 71개 일 때 이론값 : [0.4 0.6] 표본값 : [0.42253521 0.57746479]\n",
            "표본 수가 72개 일 때 이론값 : [0.4 0.6] 표본값 : [0.41666667 0.58333333]\n",
            "표본 수가 73개 일 때 이론값 : [0.4 0.6] 표본값 : [0.42465753 0.57534247]\n",
            "표본 수가 74개 일 때 이론값 : [0.4 0.6] 표본값 : [0.43243243 0.56756757]\n",
            "표본 수가 75개 일 때 이론값 : [0.4 0.6] 표본값 : [0.44 0.56]\n",
            "표본 수가 76개 일 때 이론값 : [0.4 0.6] 표본값 : [0.43421053 0.56578947]\n",
            "표본 수가 77개 일 때 이론값 : [0.4 0.6] 표본값 : [0.42857143 0.57142857]\n",
            "표본 수가 78개 일 때 이론값 : [0.4 0.6] 표본값 : [0.42307692 0.57692308]\n",
            "표본 수가 79개 일 때 이론값 : [0.4 0.6] 표본값 : [0.41772152 0.58227848]\n",
            "표본 수가 80개 일 때 이론값 : [0.4 0.6] 표본값 : [0.4125 0.5875]\n",
            "표본 수가 81개 일 때 이론값 : [0.4 0.6] 표본값 : [0.40740741 0.59259259]\n",
            "표본 수가 82개 일 때 이론값 : [0.4 0.6] 표본값 : [0.40243902 0.59756098]\n",
            "표본 수가 83개 일 때 이론값 : [0.4 0.6] 표본값 : [0.39759036 0.60240964]\n",
            "표본 수가 84개 일 때 이론값 : [0.4 0.6] 표본값 : [0.4047619 0.5952381]\n",
            "표본 수가 85개 일 때 이론값 : [0.4 0.6] 표본값 : [0.4 0.6]\n",
            "표본 수가 86개 일 때 이론값 : [0.4 0.6] 표본값 : [0.39534884 0.60465116]\n",
            "표본 수가 87개 일 때 이론값 : [0.4 0.6] 표본값 : [0.3908046 0.6091954]\n",
            "표본 수가 88개 일 때 이론값 : [0.4 0.6] 표본값 : [0.38636364 0.61363636]\n",
            "표본 수가 89개 일 때 이론값 : [0.4 0.6] 표본값 : [0.38202247 0.61797753]\n",
            "표본 수가 90개 일 때 이론값 : [0.4 0.6] 표본값 : [0.38888889 0.61111111]\n",
            "표본 수가 91개 일 때 이론값 : [0.4 0.6] 표본값 : [0.38461538 0.61538462]\n",
            "표본 수가 92개 일 때 이론값 : [0.4 0.6] 표본값 : [0.39130435 0.60869565]\n",
            "표본 수가 93개 일 때 이론값 : [0.4 0.6] 표본값 : [0.38709677 0.61290323]\n",
            "표본 수가 94개 일 때 이론값 : [0.4 0.6] 표본값 : [0.39361702 0.60638298]\n",
            "표본 수가 95개 일 때 이론값 : [0.4 0.6] 표본값 : [0.38947368 0.61052632]\n",
            "표본 수가 96개 일 때 이론값 : [0.4 0.6] 표본값 : [0.38541667 0.61458333]\n",
            "표본 수가 97개 일 때 이론값 : [0.4 0.6] 표본값 : [0.3814433 0.6185567]\n",
            "표본 수가 98개 일 때 이론값 : [0.4 0.6] 표본값 : [0.37755102 0.62244898]\n",
            "표본 수가 99개 일 때 이론값 : [0.4 0.6] 표본값 : [0.38383838 0.61616162]\n",
            "표본 수가 100개 일 때 이론값 : [0.4 0.6] 표본값 : [0.38 0.62]\n",
            "표본 수가 101개 일 때 이론값 : [0.4 0.6] 표본값 : [0.38613861 0.61386139]\n",
            "표본 수가 102개 일 때 이론값 : [0.4 0.6] 표본값 : [0.38235294 0.61764706]\n",
            "표본 수가 103개 일 때 이론값 : [0.4 0.6] 표본값 : [0.38834951 0.61165049]\n",
            "표본 수가 104개 일 때 이론값 : [0.4 0.6] 표본값 : [0.39423077 0.60576923]\n",
            "표본 수가 105개 일 때 이론값 : [0.4 0.6] 표본값 : [0.39047619 0.60952381]\n",
            "표본 수가 106개 일 때 이론값 : [0.4 0.6] 표본값 : [0.38679245 0.61320755]\n",
            "표본 수가 107개 일 때 이론값 : [0.4 0.6] 표본값 : [0.38317757 0.61682243]\n",
            "표본 수가 108개 일 때 이론값 : [0.4 0.6] 표본값 : [0.37962963 0.62037037]\n",
            "표본 수가 109개 일 때 이론값 : [0.4 0.6] 표본값 : [0.37614679 0.62385321]\n",
            "표본 수가 110개 일 때 이론값 : [0.4 0.6] 표본값 : [0.38181818 0.61818182]\n",
            "표본 수가 111개 일 때 이론값 : [0.4 0.6] 표본값 : [0.37837838 0.62162162]\n",
            "표본 수가 112개 일 때 이론값 : [0.4 0.6] 표본값 : [0.38392857 0.61607143]\n",
            "표본 수가 113개 일 때 이론값 : [0.4 0.6] 표본값 : [0.38938053 0.61061947]\n",
            "표본 수가 114개 일 때 이론값 : [0.4 0.6] 표본값 : [0.38596491 0.61403509]\n",
            "표본 수가 115개 일 때 이론값 : [0.4 0.6] 표본값 : [0.39130435 0.60869565]\n",
            "표본 수가 116개 일 때 이론값 : [0.4 0.6] 표본값 : [0.38793103 0.61206897]\n",
            "표본 수가 117개 일 때 이론값 : [0.4 0.6] 표본값 : [0.39316239 0.60683761]\n",
            "표본 수가 118개 일 때 이론값 : [0.4 0.6] 표본값 : [0.38983051 0.61016949]\n",
            "표본 수가 119개 일 때 이론값 : [0.4 0.6] 표본값 : [0.39495798 0.60504202]\n",
            "표본 수가 120개 일 때 이론값 : [0.4 0.6] 표본값 : [0.4 0.6]\n",
            "표본 수가 121개 일 때 이론값 : [0.4 0.6] 표본값 : [0.40495868 0.59504132]\n",
            "표본 수가 122개 일 때 이론값 : [0.4 0.6] 표본값 : [0.40163934 0.59836066]\n",
            "표본 수가 123개 일 때 이론값 : [0.4 0.6] 표본값 : [0.40650407 0.59349593]\n",
            "표본 수가 124개 일 때 이론값 : [0.4 0.6] 표본값 : [0.41129032 0.58870968]\n",
            "표본 수가 125개 일 때 이론값 : [0.4 0.6] 표본값 : [0.408 0.592]\n",
            "표본 수가 126개 일 때 이론값 : [0.4 0.6] 표본값 : [0.41269841 0.58730159]\n",
            "표본 수가 127개 일 때 이론값 : [0.4 0.6] 표본값 : [0.40944882 0.59055118]\n",
            "표본 수가 128개 일 때 이론값 : [0.4 0.6] 표본값 : [0.40625 0.59375]\n",
            "표본 수가 129개 일 때 이론값 : [0.4 0.6] 표본값 : [0.41085271 0.58914729]\n",
            "표본 수가 130개 일 때 이론값 : [0.4 0.6] 표본값 : [0.40769231 0.59230769]\n",
            "표본 수가 131개 일 때 이론값 : [0.4 0.6] 표본값 : [0.41221374 0.58778626]\n",
            "표본 수가 132개 일 때 이론값 : [0.4 0.6] 표본값 : [0.40909091 0.59090909]\n",
            "표본 수가 133개 일 때 이론값 : [0.4 0.6] 표본값 : [0.40601504 0.59398496]\n",
            "표본 수가 134개 일 때 이론값 : [0.4 0.6] 표본값 : [0.40298507 0.59701493]\n",
            "표본 수가 135개 일 때 이론값 : [0.4 0.6] 표본값 : [0.4 0.6]\n",
            "표본 수가 136개 일 때 이론값 : [0.4 0.6] 표본값 : [0.39705882 0.60294118]\n",
            "표본 수가 137개 일 때 이론값 : [0.4 0.6] 표본값 : [0.39416058 0.60583942]\n",
            "표본 수가 138개 일 때 이론값 : [0.4 0.6] 표본값 : [0.39855072 0.60144928]\n",
            "표본 수가 139개 일 때 이론값 : [0.4 0.6] 표본값 : [0.4028777 0.5971223]\n",
            "표본 수가 140개 일 때 이론값 : [0.4 0.6] 표본값 : [0.4 0.6]\n",
            "표본 수가 141개 일 때 이론값 : [0.4 0.6] 표본값 : [0.40425532 0.59574468]\n",
            "표본 수가 142개 일 때 이론값 : [0.4 0.6] 표본값 : [0.40140845 0.59859155]\n",
            "표본 수가 143개 일 때 이론값 : [0.4 0.6] 표본값 : [0.3986014 0.6013986]\n",
            "표본 수가 144개 일 때 이론값 : [0.4 0.6] 표본값 : [0.40277778 0.59722222]\n",
            "표본 수가 145개 일 때 이론값 : [0.4 0.6] 표본값 : [0.40689655 0.59310345]\n",
            "표본 수가 146개 일 때 이론값 : [0.4 0.6] 표본값 : [0.4109589 0.5890411]\n",
            "표본 수가 147개 일 때 이론값 : [0.4 0.6] 표본값 : [0.40816327 0.59183673]\n",
            "표본 수가 148개 일 때 이론값 : [0.4 0.6] 표본값 : [0.41216216 0.58783784]\n",
            "표본 수가 149개 일 때 이론값 : [0.4 0.6] 표본값 : [0.41610738 0.58389262]\n",
            "표본 수가 150개 일 때 이론값 : [0.4 0.6] 표본값 : [0.42 0.58]\n",
            "표본 수가 151개 일 때 이론값 : [0.4 0.6] 표본값 : [0.41721854 0.58278146]\n",
            "표본 수가 152개 일 때 이론값 : [0.4 0.6] 표본값 : [0.42105263 0.57894737]\n",
            "표본 수가 153개 일 때 이론값 : [0.4 0.6] 표본값 : [0.41830065 0.58169935]\n",
            "표본 수가 154개 일 때 이론값 : [0.4 0.6] 표본값 : [0.42207792 0.57792208]\n",
            "표본 수가 155개 일 때 이론값 : [0.4 0.6] 표본값 : [0.41935484 0.58064516]\n",
            "표본 수가 156개 일 때 이론값 : [0.4 0.6] 표본값 : [0.42307692 0.57692308]\n",
            "표본 수가 157개 일 때 이론값 : [0.4 0.6] 표본값 : [0.42675159 0.57324841]\n",
            "표본 수가 158개 일 때 이론값 : [0.4 0.6] 표본값 : [0.42405063 0.57594937]\n",
            "표본 수가 159개 일 때 이론값 : [0.4 0.6] 표본값 : [0.42138365 0.57861635]\n",
            "표본 수가 160개 일 때 이론값 : [0.4 0.6] 표본값 : [0.41875 0.58125]\n",
            "표본 수가 161개 일 때 이론값 : [0.4 0.6] 표본값 : [0.42236025 0.57763975]\n",
            "표본 수가 162개 일 때 이론값 : [0.4 0.6] 표본값 : [0.41975309 0.58024691]\n",
            "표본 수가 163개 일 때 이론값 : [0.4 0.6] 표본값 : [0.42331288 0.57668712]\n",
            "표본 수가 164개 일 때 이론값 : [0.4 0.6] 표본값 : [0.42682927 0.57317073]\n",
            "표본 수가 165개 일 때 이론값 : [0.4 0.6] 표본값 : [0.43030303 0.56969697]\n",
            "표본 수가 166개 일 때 이론값 : [0.4 0.6] 표본값 : [0.43373494 0.56626506]\n",
            "표본 수가 167개 일 때 이론값 : [0.4 0.6] 표본값 : [0.43113772 0.56886228]\n",
            "표본 수가 168개 일 때 이론값 : [0.4 0.6] 표본값 : [0.42857143 0.57142857]\n",
            "표본 수가 169개 일 때 이론값 : [0.4 0.6] 표본값 : [0.43195266 0.56804734]\n",
            "표본 수가 170개 일 때 이론값 : [0.4 0.6] 표본값 : [0.42941176 0.57058824]\n",
            "표본 수가 171개 일 때 이론값 : [0.4 0.6] 표본값 : [0.42690058 0.57309942]\n",
            "표본 수가 172개 일 때 이론값 : [0.4 0.6] 표본값 : [0.4244186 0.5755814]\n",
            "표본 수가 173개 일 때 이론값 : [0.4 0.6] 표본값 : [0.42196532 0.57803468]\n",
            "표본 수가 174개 일 때 이론값 : [0.4 0.6] 표본값 : [0.41954023 0.58045977]\n",
            "표본 수가 175개 일 때 이론값 : [0.4 0.6] 표본값 : [0.42285714 0.57714286]\n",
            "표본 수가 176개 일 때 이론값 : [0.4 0.6] 표본값 : [0.42045455 0.57954545]\n",
            "표본 수가 177개 일 때 이론값 : [0.4 0.6] 표본값 : [0.4180791 0.5819209]\n",
            "표본 수가 178개 일 때 이론값 : [0.4 0.6] 표본값 : [0.42134831 0.57865169]\n",
            "표본 수가 179개 일 때 이론값 : [0.4 0.6] 표본값 : [0.42458101 0.57541899]\n",
            "표본 수가 180개 일 때 이론값 : [0.4 0.6] 표본값 : [0.42222222 0.57777778]\n",
            "표본 수가 181개 일 때 이론값 : [0.4 0.6] 표본값 : [0.4198895 0.5801105]\n",
            "표본 수가 182개 일 때 이론값 : [0.4 0.6] 표본값 : [0.42307692 0.57692308]\n",
            "표본 수가 183개 일 때 이론값 : [0.4 0.6] 표본값 : [0.42076503 0.57923497]\n",
            "표본 수가 184개 일 때 이론값 : [0.4 0.6] 표본값 : [0.41847826 0.58152174]\n",
            "표본 수가 185개 일 때 이론값 : [0.4 0.6] 표본값 : [0.42162162 0.57837838]\n",
            "표본 수가 186개 일 때 이론값 : [0.4 0.6] 표본값 : [0.42473118 0.57526882]\n",
            "표본 수가 187개 일 때 이론값 : [0.4 0.6] 표본값 : [0.42245989 0.57754011]\n",
            "표본 수가 188개 일 때 이론값 : [0.4 0.6] 표본값 : [0.42021277 0.57978723]\n",
            "표본 수가 189개 일 때 이론값 : [0.4 0.6] 표본값 : [0.42328042 0.57671958]\n",
            "표본 수가 190개 일 때 이론값 : [0.4 0.6] 표본값 : [0.42105263 0.57894737]\n",
            "표본 수가 191개 일 때 이론값 : [0.4 0.6] 표본값 : [0.41884817 0.58115183]\n",
            "표본 수가 192개 일 때 이론값 : [0.4 0.6] 표본값 : [0.41666667 0.58333333]\n",
            "표본 수가 193개 일 때 이론값 : [0.4 0.6] 표본값 : [0.41450777 0.58549223]\n",
            "표본 수가 194개 일 때 이론값 : [0.4 0.6] 표본값 : [0.41752577 0.58247423]\n",
            "표본 수가 195개 일 때 이론값 : [0.4 0.6] 표본값 : [0.42051282 0.57948718]\n",
            "표본 수가 196개 일 때 이론값 : [0.4 0.6] 표본값 : [0.41836735 0.58163265]\n",
            "표본 수가 197개 일 때 이론값 : [0.4 0.6] 표본값 : [0.41624365 0.58375635]\n",
            "표본 수가 198개 일 때 이론값 : [0.4 0.6] 표본값 : [0.41414141 0.58585859]\n",
            "표본 수가 199개 일 때 이론값 : [0.4 0.6] 표본값 : [0.4120603 0.5879397]\n"
          ]
        }
      ]
    },
    {
      "cell_type": "markdown",
      "source": [
        "### 이항분포\n",
        "베르누이 분포에서 실험을 여러번 한 것이 이항분포\n",
        "\n",
        "$$ X∼Bin(x;N,μ)$$\n",
        "\n",
        "표본 중 성공일 경우 1 아닐경우 0\n",
        "\n",
        "N개의 표본 중 성공 횟수는 N개의 표본을 모두 더한 것과 같다.\n",
        "$$x=\\Sigma{y_i}$$\n",
        "\n",
        "확률 질량 함수\n",
        "$$Bin(x;N,μ) = \\binom{N}{x}{μ^x}{(1-μ)^{(N-x)}}$$"
      ],
      "metadata": {
        "id": "c4ADIRSB9yVK"
      }
    },
    {
      "cell_type": "code",
      "source": [
        "N = 10\n",
        "mu = 0.6\n",
        "rv = scipy.stats.binom(N, mu)"
      ],
      "metadata": {
        "id": "7VeVy_GptgAu"
      },
      "execution_count": null,
      "outputs": []
    },
    {
      "cell_type": "code",
      "source": [
        "x_ = np.arange(N + 1)\n",
        "plt.bar(x_, rv.pmf(x_), align='center')\n",
        "plt.title('이항분포의 확률질량함수')\n",
        "plt.xlabel('표본값')\n",
        "plt.ylabel('P(X)')\n",
        "plt.show()"
      ],
      "metadata": {
        "colab": {
          "base_uri": "https://localhost:8080/",
          "height": 293
        },
        "id": "C9yv96G1AhYa",
        "outputId": "c469fade-a8eb-42f2-db10-577b642ca83e"
      },
      "execution_count": null,
      "outputs": [
        {
          "output_type": "display_data",
          "data": {
            "text/plain": [
              "<Figure size 432x288 with 1 Axes>"
            ],
            "image/png": "[encoded data removed]"
          },
          "metadata": {
            "needs_background": "light"
          }
        }
      ]
    },
    {
      "cell_type": "markdown",
      "source": [
        "이항분포 시뮬레이션"
      ],
      "metadata": {
        "id": "v_AhZOroBWQD"
      }
    },
    {
      "cell_type": "code",
      "source": [
        "np.random.seed(0)\n",
        "x = rv.rvs(100) \n",
        "x # 10번중 몇번 성공한건지 횟수"
      ],
      "metadata": {
        "colab": {
          "base_uri": "https://localhost:8080/"
        },
        "id": "NXi7SaT3AqQO",
        "outputId": "bc82ba47-fba1-4d81-a727-233f264761ec"
      },
      "execution_count": null,
      "outputs": [
        {
          "output_type": "execute_result",
          "data": {
            "text/plain": [
              "array([ 6,  5,  6,  6,  6,  5,  6,  4,  3,  6,  5,  6,  6,  4,  8,  8,  9,\n",
              "        5,  5,  4,  3,  5,  6,  5,  8,  5,  8,  4,  6,  6,  7,  5,  6,  6,\n",
              "        9,  6,  6,  6,  4,  5,  7,  6,  5,  8,  5,  5,  7,  8,  7,  7,  6,\n",
              "        6,  2,  8,  7,  8,  5,  7,  6,  7,  8,  8,  5,  8,  7,  7,  5,  8,\n",
              "        4,  8,  3,  6,  3,  6,  5,  9,  7,  8,  7,  8,  7,  6,  8,  5,  6,\n",
              "        7,  6,  8,  6,  4,  7,  5,  8,  5,  7,  7,  6,  9,  5, 10])"
            ]
          },
          "metadata": {},
          "execution_count": 124
        }
      ]
    },
    {
      "cell_type": "code",
      "source": [
        "sns.countplot(x)\n",
        "plt.title('이항분포의 시뮬레이션 결과')\n",
        "plt.xlabel('표본값값')\n",
        "plt.show()"
      ],
      "metadata": {
        "colab": {
          "base_uri": "https://localhost:8080/",
          "height": 349
        },
        "id": "2oSsbyw6BbiH",
        "outputId": "046cabec-1111-4120-f939-d68d05c10d22"
      },
      "execution_count": null,
      "outputs": [
        {
          "output_type": "stream",
          "name": "stderr",
          "text": [
            "/usr/local/lib/python3.7/dist-packages/seaborn/_decorators.py:43: FutureWarning: Pass the following variable as a keyword arg: x. From version 0.12, the only valid positional argument will be `data`, and passing other arguments without an explicit keyword will result in an error or misinterpretation.\n",
            "  FutureWarning\n"
          ]
        },
        {
          "output_type": "display_data",
          "data": {
            "text/plain": [
              "<Figure size 432x288 with 1 Axes>"
            ],
            "image/png": "[encoded data removed]"
          },
          "metadata": {
            "needs_background": "light"
          }
        }
      ]
    },
    {
      "cell_type": "code",
      "source": [
        "y = np.bincount(x, minlength=N+1)/float(len(x))\n",
        "df = pd.DataFrame({'이론':rv.pmf(x_), '시뮬레이션':y}).stack()"
      ],
      "metadata": {
        "id": "Jcc6W2QCCGWu"
      },
      "execution_count": null,
      "outputs": []
    },
    {
      "cell_type": "code",
      "source": [
        "df = df.reset_index()\n",
        "df.columns = ['표본값','유형','비율']\n",
        "df"
      ],
      "metadata": {
        "colab": {
          "base_uri": "https://localhost:8080/",
          "height": 739
        },
        "id": "PicH2YYSCvfM",
        "outputId": "2a870c40-40a1-4e31-ad87-b0e736a3ba0b"
      },
      "execution_count": null,
      "outputs": [
        {
          "output_type": "execute_result",
          "data": {
            "text/plain": [
              "    표본값     유형        비율\n",
              "0     0     이론  0.000105\n",
              "1     0  시뮬레이션  0.000000\n",
              "2     1     이론  0.001573\n",
              "3     1  시뮬레이션  0.000000\n",
              "4     2     이론  0.010617\n",
              "5     2  시뮬레이션  0.010000\n",
              "6     3     이론  0.042467\n",
              "7     3  시뮬레이션  0.040000\n",
              "8     4     이론  0.111477\n",
              "9     4  시뮬레이션  0.070000\n",
              "10    5     이론  0.200658\n",
              "11    5  시뮬레이션  0.210000\n",
              "12    6     이론  0.250823\n",
              "13    6  시뮬레이션  0.270000\n",
              "14    7     이론  0.214991\n",
              "15    7  시뮬레이션  0.170000\n",
              "16    8     이론  0.120932\n",
              "17    8  시뮬레이션  0.180000\n",
              "18    9     이론  0.040311\n",
              "19    9  시뮬레이션  0.040000\n",
              "20   10     이론  0.006047\n",
              "21   10  시뮬레이션  0.010000"
            ],
            "text/html": [
              "\n",
              "  <div id=\"df-2be0fb13-b7ac-4950-b4ae-5d5fd1b0c2de\">\n",
              "    <div class=\"colab-df-container\">\n",
              "      <div>\n",
              "<style scoped>\n",
              "    .dataframe tbody tr th:only-of-type {\n",
              "        vertical-align: middle;\n",
              "    }\n",
              "\n",
              "    .dataframe tbody tr th {\n",
              "        vertical-align: top;\n",
              "    }\n",
              "\n",
              "    .dataframe thead th {\n",
              "        text-align: right;\n",
              "    }\n",
              "</style>\n",
              "<table border=\"1\" class=\"dataframe\">\n",
              "  <thead>\n",
              "    <tr style=\"text-align: right;\">\n",
              "      <th></th>\n",
              "      <th>표본값</th>\n",
              "      <th>유형</th>\n",
              "      <th>비율</th>\n",
              "    </tr>\n",
              "  </thead>\n",
              "  <tbody>\n",
              "    <tr>\n",
              "      <th>0</th>\n",
              "      <td>0</td>\n",
              "      <td>이론</td>\n",
              "      <td>0.000105</td>\n",
              "    </tr>\n",
              "    <tr>\n",
              "      <th>1</th>\n",
              "      <td>0</td>\n",
              "      <td>시뮬레이션</td>\n",
              "      <td>0.000000</td>\n",
              "    </tr>\n",
              "    <tr>\n",
              "      <th>2</th>\n",
              "      <td>1</td>\n",
              "      <td>이론</td>\n",
              "      <td>0.001573</td>\n",
              "    </tr>\n",
              "    <tr>\n",
              "      <th>3</th>\n",
              "      <td>1</td>\n",
              "      <td>시뮬레이션</td>\n",
              "      <td>0.000000</td>\n",
              "    </tr>\n",
              "    <tr>\n",
              "      <th>4</th>\n",
              "      <td>2</td>\n",
              "      <td>이론</td>\n",
              "      <td>0.010617</td>\n",
              "    </tr>\n",
              "    <tr>\n",
              "      <th>5</th>\n",
              "      <td>2</td>\n",
              "      <td>시뮬레이션</td>\n",
              "      <td>0.010000</td>\n",
              "    </tr>\n",
              "    <tr>\n",
              "      <th>6</th>\n",
              "      <td>3</td>\n",
              "      <td>이론</td>\n",
              "      <td>0.042467</td>\n",
              "    </tr>\n",
              "    <tr>\n",
              "      <th>7</th>\n",
              "      <td>3</td>\n",
              "      <td>시뮬레이션</td>\n",
              "      <td>0.040000</td>\n",
              "    </tr>\n",
              "    <tr>\n",
              "      <th>8</th>\n",
              "      <td>4</td>\n",
              "      <td>이론</td>\n",
              "      <td>0.111477</td>\n",
              "    </tr>\n",
              "    <tr>\n",
              "      <th>9</th>\n",
              "      <td>4</td>\n",
              "      <td>시뮬레이션</td>\n",
              "      <td>0.070000</td>\n",
              "    </tr>\n",
              "    <tr>\n",
              "      <th>10</th>\n",
              "      <td>5</td>\n",
              "      <td>이론</td>\n",
              "      <td>0.200658</td>\n",
              "    </tr>\n",
              "    <tr>\n",
              "      <th>11</th>\n",
              "      <td>5</td>\n",
              "      <td>시뮬레이션</td>\n",
              "      <td>0.210000</td>\n",
              "    </tr>\n",
              "    <tr>\n",
              "      <th>12</th>\n",
              "      <td>6</td>\n",
              "      <td>이론</td>\n",
              "      <td>0.250823</td>\n",
              "    </tr>\n",
              "    <tr>\n",
              "      <th>13</th>\n",
              "      <td>6</td>\n",
              "      <td>시뮬레이션</td>\n",
              "      <td>0.270000</td>\n",
              "    </tr>\n",
              "    <tr>\n",
              "      <th>14</th>\n",
              "      <td>7</td>\n",
              "      <td>이론</td>\n",
              "      <td>0.214991</td>\n",
              "    </tr>\n",
              "    <tr>\n",
              "      <th>15</th>\n",
              "      <td>7</td>\n",
              "      <td>시뮬레이션</td>\n",
              "      <td>0.170000</td>\n",
              "    </tr>\n",
              "    <tr>\n",
              "      <th>16</th>\n",
              "      <td>8</td>\n",
              "      <td>이론</td>\n",
              "      <td>0.120932</td>\n",
              "    </tr>\n",
              "    <tr>\n",
              "      <th>17</th>\n",
              "      <td>8</td>\n",
              "      <td>시뮬레이션</td>\n",
              "      <td>0.180000</td>\n",
              "    </tr>\n",
              "    <tr>\n",
              "      <th>18</th>\n",
              "      <td>9</td>\n",
              "      <td>이론</td>\n",
              "      <td>0.040311</td>\n",
              "    </tr>\n",
              "    <tr>\n",
              "      <th>19</th>\n",
              "      <td>9</td>\n",
              "      <td>시뮬레이션</td>\n",
              "      <td>0.040000</td>\n",
              "    </tr>\n",
              "    <tr>\n",
              "      <th>20</th>\n",
              "      <td>10</td>\n",
              "      <td>이론</td>\n",
              "      <td>0.006047</td>\n",
              "    </tr>\n",
              "    <tr>\n",
              "      <th>21</th>\n",
              "      <td>10</td>\n",
              "      <td>시뮬레이션</td>\n",
              "      <td>0.010000</td>\n",
              "    </tr>\n",
              "  </tbody>\n",
              "</table>\n",
              "</div>\n",
              "      <button class=\"colab-df-convert\" onclick=\"convertToInteractive('df-2be0fb13-b7ac-4950-b4ae-5d5fd1b0c2de')\"\n",
              "              title=\"Convert this dataframe to an interactive table.\"\n",
              "              style=\"display:none;\">\n",
              "        \n",
              "  <svg xmlns=\"http://www.w3.org/2000/svg\" height=\"24px\"viewBox=\"0 0 24 24\"\n",
              "       width=\"24px\">\n",
              "    <path d=\"M0 0h24v24H0V0z\" fill=\"none\"/>\n",
              "    <path d=\"M18.56 5.44l.94 2.06.94-2.06 2.06-.94-2.06-.94-.94-2.06-.94 2.06-2.06.94zm-11 1L8.5 8.5l.94-2.06 2.06-.94-2.06-.94L8.5 2.5l-.94 2.06-2.06.94zm10 10l.94 2.06.94-2.06 2.06-.94-2.06-.94-.94-2.06-.94 2.06-2.06.94z\"/><path d=\"M17.41 7.96l-1.37-1.37c-.4-.4-.92-.59-1.43-.59-.52 0-1.04.2-1.43.59L10.3 9.45l-7.72 7.72c-.78.78-.78 2.05 0 2.83L4 21.41c.39.39.9.59 1.41.59.51 0 1.02-.2 1.41-.59l7.78-7.78 2.81-2.81c.8-.78.8-2.07 0-2.86zM5.41 20L4 18.59l7.72-7.72 1.47 1.35L5.41 20z\"/>\n",
              "  </svg>\n",
              "      </button>\n",
              "      \n",
              "  <style>\n",
              "    .colab-df-container {\n",
              "      display:flex;\n",
              "      flex-wrap:wrap;\n",
              "      gap: 12px;\n",
              "    }\n",
              "\n",
              "    .colab-df-convert {\n",
              "      background-color: #E8F0FE;\n",
              "      border: none;\n",
              "      border-radius: 50%;\n",
              "      cursor: pointer;\n",
              "      display: none;\n",
              "      fill: #1967D2;\n",
              "      height: 32px;\n",
              "      padding: 0 0 0 0;\n",
              "      width: 32px;\n",
              "    }\n",
              "\n",
              "    .colab-df-convert:hover {\n",
              "      background-color: #E2EBFA;\n",
              "      box-shadow: 0px 1px 2px rgba(60, 64, 67, 0.3), 0px 1px 3px 1px rgba(60, 64, 67, 0.15);\n",
              "      fill: #174EA6;\n",
              "    }\n",
              "\n",
              "    [theme=dark] .colab-df-convert {\n",
              "      background-color: #3B4455;\n",
              "      fill: #D2E3FC;\n",
              "    }\n",
              "\n",
              "    [theme=dark] .colab-df-convert:hover {\n",
              "      background-color: #434B5C;\n",
              "      box-shadow: 0px 1px 3px 1px rgba(0, 0, 0, 0.15);\n",
              "      filter: drop-shadow(0px 1px 2px rgba(0, 0, 0, 0.3));\n",
              "      fill: #FFFFFF;\n",
              "    }\n",
              "  </style>\n",
              "\n",
              "      <script>\n",
              "        const buttonEl =\n",
              "          document.querySelector('#df-2be0fb13-b7ac-4950-b4ae-5d5fd1b0c2de button.colab-df-convert');\n",
              "        buttonEl.style.display =\n",
              "          google.colab.kernel.accessAllowed ? 'block' : 'none';\n",
              "\n",
              "        async function convertToInteractive(key) {\n",
              "          const element = document.querySelector('#df-2be0fb13-b7ac-4950-b4ae-5d5fd1b0c2de');\n",
              "          const dataTable =\n",
              "            await google.colab.kernel.invokeFunction('convertToInteractive',\n",
              "                                                     [key], {});\n",
              "          if (!dataTable) return;\n",
              "\n",
              "          const docLinkHtml = 'Like what you see? Visit the ' +\n",
              "            '<a target=\"_blank\" href=https://colab.research.google.com/notebooks/data_table.ipynb>data table notebook</a>'\n",
              "            + ' to learn more about interactive tables.';\n",
              "          element.innerHTML = '';\n",
              "          dataTable['output_type'] = 'display_data';\n",
              "          await google.colab.output.renderOutput(dataTable, element);\n",
              "          const docLink = document.createElement('div');\n",
              "          docLink.innerHTML = docLinkHtml;\n",
              "          element.appendChild(docLink);\n",
              "        }\n",
              "      </script>\n",
              "    </div>\n",
              "  </div>\n",
              "  "
            ]
          },
          "metadata": {},
          "execution_count": 127
        }
      ]
    },
    {
      "cell_type": "code",
      "source": [
        "sns.barplot(x='표본값', y='비율', hue='유형',data=df)\n",
        "plt.title('이항분포의 이론적 분포와 표본의 분포')\n",
        "plt.show()"
      ],
      "metadata": {
        "colab": {
          "base_uri": "https://localhost:8080/",
          "height": 293
        },
        "id": "dp1mTbWIDycp",
        "outputId": "265048dc-deaa-42b6-e46f-dda36075ad00"
      },
      "execution_count": null,
      "outputs": [
        {
          "output_type": "display_data",
          "data": {
            "text/plain": [
              "<Figure size 432x288 with 1 Axes>"
            ],
            "image/png": "[encoded data removed]"
          },
          "metadata": {
            "needs_background": "light"
          }
        }
      ]
    },
    {
      "cell_type": "markdown",
      "source": [
        "### 정규분포\n",
        "가우스 분포라고도 함\n",
        "보통 자연현상에 나타나는 수치 정규분포 가정을 많이 함\n",
        "\n",
        "$$ N(x;μ,{q^2}) = \\frac{1}{{(2π{q^2})}^\\frac{1}{2}}exp(-\\frac{{(x-μ)}^2}{2{q^2}})$$"
      ],
      "metadata": {
        "id": "7p5WlplsGNt_"
      }
    },
    {
      "cell_type": "code",
      "source": [
        "# 표준 정규분포 생성\n",
        "mu = 0\n",
        "std = 1\n",
        "rv = scipy.stats.norm(mu, std)"
      ],
      "metadata": {
        "id": "6Z0quOQoEDdY"
      },
      "execution_count": null,
      "outputs": []
    },
    {
      "cell_type": "code",
      "source": [
        "x_ = np.linspace(-10,10, 100)\n",
        "plt.plot(x_, rv.pdf(x_))\n",
        "plt.arrow(0,0.05,2,0, lw=3, color='r', head_width=0.02, head_length=0.2, length_includes_head=True)\n",
        "plt.arrow(0,0.05,-2,0, lw=3, color='r', head_width=0.02, head_length=0.2, length_includes_head=True)\n",
        "plt.show()"
      ],
      "metadata": {
        "colab": {
          "base_uri": "https://localhost:8080/",
          "height": 264
        },
        "id": "OLYpflSeGeeF",
        "outputId": "c38282d0-fd86-42d9-a150-478116e2cdd7"
      },
      "execution_count": null,
      "outputs": [
        {
          "output_type": "display_data",
          "data": {
            "text/plain": [
              "<Figure size 432x288 with 1 Axes>"
            ],
            "image/png": "[encoded data removed]"
          },
          "metadata": {
            "needs_background": "light"
          }
        }
      ]
    },
    {
      "cell_type": "code",
      "source": [
        "#계속 rvs를통해 모집단에서 표본을 추출하고있음\n",
        "np.random.seed(0)\n",
        "x = rv.rvs(20) # 표본이 많을수록 정규분포와 매우 유사해 질 것임."
      ],
      "metadata": {
        "id": "mwdWJt71HGU1"
      },
      "execution_count": null,
      "outputs": []
    },
    {
      "cell_type": "code",
      "source": [
        "# 표본 생성 결과\n",
        "sns.distplot(x, fit=scipy.stats.norm) \n",
        "plt.grid()\n",
        "plt.show()\n",
        "\n",
        "# 파란색이 실제 분포임.\n",
        "# 파란색과 가장 유사성이 높은 정규분포를 그린것이 검정색임."
      ],
      "metadata": {
        "colab": {
          "base_uri": "https://localhost:8080/",
          "height": 320
        },
        "id": "iZEGj1LKHniI",
        "outputId": "0b7c4be6-fc5e-4b21-8ad3-60c57f1bdd8f"
      },
      "execution_count": null,
      "outputs": [
        {
          "output_type": "stream",
          "name": "stderr",
          "text": [
            "/usr/local/lib/python3.7/dist-packages/seaborn/distributions.py:2619: FutureWarning: `distplot` is a deprecated function and will be removed in a future version. Please adapt your code to use either `displot` (a figure-level function with similar flexibility) or `histplot` (an axes-level function for histograms).\n",
            "  warnings.warn(msg, FutureWarning)\n"
          ]
        },
        {
          "output_type": "display_data",
          "data": {
            "text/plain": [
              "<Figure size 432x288 with 1 Axes>"
            ],
            "image/png": "[encoded data removed]"
          },
          "metadata": {
            "needs_background": "light"
          }
        }
      ]
    },
    {
      "cell_type": "code",
      "source": [
        "from sklearn.datasets import load_iris\n",
        "\n",
        "setosa_sepal_length = load_iris().data[:50,2]\n",
        "sns.distplot(setosa_sepal_length, rug=True)\n",
        "plt.tight_layout()\n",
        "plt.show()"
      ],
      "metadata": {
        "colab": {
          "base_uri": "https://localhost:8080/",
          "height": 390
        },
        "id": "lwdNyLJWHy0o",
        "outputId": "caee161c-2bcc-49f7-9858-65487466e6b7"
      },
      "execution_count": null,
      "outputs": [
        {
          "output_type": "stream",
          "name": "stderr",
          "text": [
            "/usr/local/lib/python3.7/dist-packages/seaborn/distributions.py:2619: FutureWarning: `distplot` is a deprecated function and will be removed in a future version. Please adapt your code to use either `displot` (a figure-level function with similar flexibility) or `histplot` (an axes-level function for histograms).\n",
            "  warnings.warn(msg, FutureWarning)\n",
            "/usr/local/lib/python3.7/dist-packages/seaborn/distributions.py:2103: FutureWarning: The `axis` variable is no longer used and will be removed. Instead, assign variables directly to `x` or `y`.\n",
            "  warnings.warn(msg, FutureWarning)\n"
          ]
        },
        {
          "output_type": "display_data",
          "data": {
            "text/plain": [
              "<Figure size 432x288 with 1 Axes>"
            ],
            "image/png": "[encoded data removed]"
          },
          "metadata": {
            "needs_background": "light"
          }
        }
      ]
    },
    {
      "cell_type": "code",
      "source": [
        "import pandas_datareader.data as web\n",
        "\n",
        "symbol = 'NASDAQCOM'\n",
        "data = web.DataReader(symbol, data_source='fred', start='2009-01-01', end='2021-12-31')[symbol]\n",
        "data = data.dropna()\n",
        "data.plot(legend=False)\n",
        "plt.grid()\n",
        "plt.title('나스닥 지수')\n",
        "plt.show()"
      ],
      "metadata": {
        "colab": {
          "base_uri": "https://localhost:8080/",
          "height": 282
        },
        "id": "mrUSlXqHI9QN",
        "outputId": "f13045b2-2d90-4eb8-fd58-ee25bf9bbf8c"
      },
      "execution_count": null,
      "outputs": [
        {
          "output_type": "display_data",
          "data": {
            "text/plain": [
              "<Figure size 432x288 with 1 Axes>"
            ],
            "image/png": "[encoded data removed]"
          },
          "metadata": {
            "needs_background": "light"
          }
        }
      ]
    },
    {
      "cell_type": "code",
      "source": [
        "daily_returns = data.pct_change().dropna()\n",
        "mean = daily_returns.mean()\n",
        "std = daily_returns.std()\n",
        "mean*100, std* 100"
      ],
      "metadata": {
        "colab": {
          "base_uri": "https://localhost:8080/"
        },
        "id": "mqzBnnTgO6Ue",
        "outputId": "4285f14e-cb1c-4f76-de9f-16dc9b6bf033"
      },
      "execution_count": null,
      "outputs": [
        {
          "output_type": "execute_result",
          "data": {
            "text/plain": [
              "(0.07716675707786935, 1.269632222896445)"
            ]
          },
          "metadata": {},
          "execution_count": 135
        }
      ]
    },
    {
      "cell_type": "code",
      "source": [
        "sns.distplot(daily_returns, kde=True)\n",
        "plt.title('나스닥 일간 수익율분포')\n",
        "plt.show()"
      ],
      "metadata": {
        "colab": {
          "base_uri": "https://localhost:8080/",
          "height": 348
        },
        "id": "ajFyw-8WO7gE",
        "outputId": "1789f765-7f42-4828-b1fa-fb185275430d"
      },
      "execution_count": null,
      "outputs": [
        {
          "output_type": "stream",
          "name": "stderr",
          "text": [
            "/usr/local/lib/python3.7/dist-packages/seaborn/distributions.py:2619: FutureWarning: `distplot` is a deprecated function and will be removed in a future version. Please adapt your code to use either `displot` (a figure-level function with similar flexibility) or `histplot` (an axes-level function for histograms).\n",
            "  warnings.warn(msg, FutureWarning)\n"
          ]
        },
        {
          "output_type": "display_data",
          "data": {
            "text/plain": [
              "<Figure size 432x288 with 1 Axes>"
            ],
            "image/png": "[encoded data removed]"
          },
          "metadata": {
            "needs_background": "light"
          }
        }
      ]
    },
    {
      "cell_type": "markdown",
      "source": [
        "로그정규 분포"
      ],
      "metadata": {
        "id": "sxqE006QPnUs"
      }
    },
    {
      "cell_type": "markdown",
      "source": [
        "항상 양수인 데이터 가정할 수 있는 분포"
      ],
      "metadata": {
        "id": "lLU3MAJ6PowK"
      }
    },
    {
      "cell_type": "code",
      "source": [
        "np.random.seed(0)\n",
        "mu = 1\n",
        "rv = scipy.stats.norm(mu)\n",
        "x1 = rv.rvs(1000)\n",
        "s = .5\n",
        "x2 = np.exp(s * x1)\n",
        "fig, ax = plt.subplots(1,2)\n",
        "sns.distplot(x1, kde=False, ax= ax[0])\n",
        "ax[0].set_title('정규분포')\n",
        "sns.distplot(x2, ax=ax[1], kde= False)\n",
        "ax[1].set_title('로그정규분포')\n",
        "plt.tight_layout()\n",
        "plt.show()"
      ],
      "metadata": {
        "colab": {
          "base_uri": "https://localhost:8080/",
          "height": 353
        },
        "id": "1au-MB7-O80n",
        "outputId": "5b9d9de3-3ace-4e09-8a81-8f36510ad5b3"
      },
      "execution_count": null,
      "outputs": [
        {
          "output_type": "stream",
          "name": "stderr",
          "text": [
            "/usr/local/lib/python3.7/dist-packages/seaborn/distributions.py:2619: FutureWarning: `distplot` is a deprecated function and will be removed in a future version. Please adapt your code to use either `displot` (a figure-level function with similar flexibility) or `histplot` (an axes-level function for histograms).\n",
            "  warnings.warn(msg, FutureWarning)\n"
          ]
        },
        {
          "output_type": "display_data",
          "data": {
            "text/plain": [
              "<Figure size 432x288 with 2 Axes>"
            ],
            "image/png": "[encoded data removed]"
          },
          "metadata": {
            "needs_background": "light"
          }
        }
      ]
    },
    {
      "cell_type": "markdown",
      "source": [
        "## Q-Q 플롯\n",
        "\n",
        "어떤 확률변수의 분포가 정규분포인지 검사하는 그래프\n",
        "\n",
        "정규본포를 따를 때 Q-Q플롯은 직선의 형태를 가집니다.\n",
        "\n",
        "정규분포를 따르지 않을 때 Q-Q플롯은 곡선이 발생"
      ],
      "metadata": {
        "id": "mk2qBQYKRArO"
      }
    },
    {
      "cell_type": "code",
      "source": [
        "mu = 0\n",
        "std = 1\n",
        "rv = scipy.stats.norm(mu, std)"
      ],
      "metadata": {
        "id": "AeOOCPB1QeWJ"
      },
      "execution_count": 138,
      "outputs": []
    },
    {
      "cell_type": "code",
      "source": [
        "x = rv.rvs(100)\n",
        "x_sorted = np.sort(x)\n",
        "x_sorted"
      ],
      "metadata": {
        "id": "sPW-2IEpSKHd"
      },
      "execution_count": null,
      "outputs": []
    },
    {
      "cell_type": "code",
      "source": [
        "from scipy.stats.morestats import _calc_uniform_order_statistic_medians\n",
        "position = _calc_uniform_order_statistic_medians(len(x))\n",
        "position"
      ],
      "metadata": {
        "colab": {
          "base_uri": "https://localhost:8080/"
        },
        "id": "yvuZNTceST3r",
        "outputId": "abd21d8e-2a96-4005-b100-e902ef962783"
      },
      "execution_count": 140,
      "outputs": [
        {
          "output_type": "execute_result",
          "data": {
            "text/plain": [
              "array([0.0069075 , 0.01676381, 0.02672744, 0.03669108, 0.04665471,\n",
              "       0.05661834, 0.06658198, 0.07654561, 0.08650924, 0.09647287,\n",
              "       0.10643651, 0.11640014, 0.12636377, 0.1363274 , 0.14629104,\n",
              "       0.15625467, 0.1662183 , 0.17618194, 0.18614557, 0.1961092 ,\n",
              "       0.20607283, 0.21603647, 0.2260001 , 0.23596373, 0.24592737,\n",
              "       0.255891  , 0.26585463, 0.27581826, 0.2857819 , 0.29574553,\n",
              "       0.30570916, 0.31567279, 0.32563643, 0.33560006, 0.34556369,\n",
              "       0.35552733, 0.36549096, 0.37545459, 0.38541822, 0.39538186,\n",
              "       0.40534549, 0.41530912, 0.42527275, 0.43523639, 0.44520002,\n",
              "       0.45516365, 0.46512729, 0.47509092, 0.48505455, 0.49501818,\n",
              "       0.50498182, 0.51494545, 0.52490908, 0.53487271, 0.54483635,\n",
              "       0.55479998, 0.56476361, 0.57472725, 0.58469088, 0.59465451,\n",
              "       0.60461814, 0.61458178, 0.62454541, 0.63450904, 0.64447267,\n",
              "       0.65443631, 0.66439994, 0.67436357, 0.68432721, 0.69429084,\n",
              "       0.70425447, 0.7142181 , 0.72418174, 0.73414537, 0.744109  ,\n",
              "       0.75407263, 0.76403627, 0.7739999 , 0.78396353, 0.79392717,\n",
              "       0.8038908 , 0.81385443, 0.82381806, 0.8337817 , 0.84374533,\n",
              "       0.85370896, 0.8636726 , 0.87363623, 0.88359986, 0.89356349,\n",
              "       0.90352713, 0.91349076, 0.92345439, 0.93341802, 0.94338166,\n",
              "       0.95334529, 0.96330892, 0.97327256, 0.98323619, 0.9930925 ])"
            ]
          },
          "metadata": {},
          "execution_count": 140
        }
      ]
    },
    {
      "cell_type": "code",
      "source": [
        "ff = rv.ppf(position)\n",
        "ff"
      ],
      "metadata": {
        "colab": {
          "base_uri": "https://localhost:8080/"
        },
        "id": "aP7_ZWerS1us",
        "outputId": "a2ee7099-7f2a-47e8-d9ea-ed950a3129d9"
      },
      "execution_count": 141,
      "outputs": [
        {
          "output_type": "execute_result",
          "data": {
            "text/plain": [
              "array([-2.46203784, -2.12570747, -1.93122778, -1.79044653, -1.67819304,\n",
              "       -1.58381122, -1.50174123, -1.42869743, -1.36256869, -1.30191411,\n",
              "       -1.24570419, -1.19317644, -1.14374949, -1.09696931, -1.05247413,\n",
              "       -1.00997067, -0.96921765, -0.93001393, -0.89218993, -0.85560121,\n",
              "       -0.82012357, -0.78564937, -0.75208458, -0.71934648, -0.68736185,\n",
              "       -0.65606548, -0.62539893, -0.59530962, -0.56574992, -0.53667655,\n",
              "       -0.50804994, -0.47983378, -0.45199463, -0.42450149, -0.39732558,\n",
              "       -0.37044003, -0.34381966, -0.31744076, -0.29128096, -0.26531902,\n",
              "       -0.23953472, -0.21390872, -0.18842244, -0.16305799, -0.13779803,\n",
              "       -0.1126257 , -0.08752455, -0.06247843, -0.03747145, -0.01248789,\n",
              "        0.01248789,  0.03747145,  0.06247843,  0.08752455,  0.1126257 ,\n",
              "        0.13779803,  0.16305799,  0.18842244,  0.21390872,  0.23953472,\n",
              "        0.26531902,  0.29128096,  0.31744076,  0.34381966,  0.37044003,\n",
              "        0.39732558,  0.42450149,  0.45199463,  0.47983378,  0.50804994,\n",
              "        0.53667655,  0.56574992,  0.59530962,  0.62539893,  0.65606548,\n",
              "        0.68736185,  0.71934648,  0.75208458,  0.78564937,  0.82012357,\n",
              "        0.85560121,  0.89218993,  0.93001393,  0.96921765,  1.00997067,\n",
              "        1.05247413,  1.09696931,  1.14374949,  1.19317644,  1.24570419,\n",
              "        1.30191411,  1.36256869,  1.42869743,  1.50174123,  1.58381122,\n",
              "        1.67819304,  1.79044653,  1.93122778,  2.12570747,  2.46203784])"
            ]
          },
          "metadata": {},
          "execution_count": 141
        }
      ]
    },
    {
      "cell_type": "code",
      "source": [
        "plt.scatter(ff, x_sorted)\n",
        "plt.title('QQ')\n",
        "plt.axis('equal')\n",
        "plt.show()"
      ],
      "metadata": {
        "colab": {
          "base_uri": "https://localhost:8080/",
          "height": 279
        },
        "id": "Sbee9jqAS6aN",
        "outputId": "8faf4c5e-cdf2-46b2-9a88-f7807218804a"
      },
      "execution_count": 142,
      "outputs": [
        {
          "output_type": "display_data",
          "data": {
            "text/plain": [
              "<Figure size 432x288 with 1 Axes>"
            ],
            "image/png": "[encoded data removed]"
          },
          "metadata": {
            "needs_background": "light"
          }
        }
      ]
    },
    {
      "cell_type": "code",
      "source": [
        "np.random.seed(0)\n",
        "plt.figure(figsize=(7,7))\n",
        "sp.stats.probplot(x, plot=plt)\n",
        "plt.axis('equal')\n",
        "plt.show()"
      ],
      "metadata": {
        "colab": {
          "base_uri": "https://localhost:8080/",
          "height": 455
        },
        "id": "sC7OENG8UPWb",
        "outputId": "142d02bd-c724-4040-a2de-6b06e8a61348"
      },
      "execution_count": 143,
      "outputs": [
        {
          "output_type": "display_data",
          "data": {
            "text/plain": [
              "<Figure size 504x504 with 1 Axes>"
            ],
            "image/png": "[encoded data removed]"
          },
          "metadata": {
            "needs_background": "light"
          }
        }
      ]
    },
    {
      "cell_type": "code",
      "source": [
        "np.random.seed(0)\n",
        "x = np.random.rand(100)\n",
        "plt.figure(figsize=(7,7))\n",
        "scipy.stats.probplot(x, plot=plt)\n",
        "plt.show() # 많이뽑을수록 곡선이 될것임임"
      ],
      "metadata": {
        "colab": {
          "base_uri": "https://localhost:8080/",
          "height": 455
        },
        "id": "3MLtBh9HUQsh",
        "outputId": "f98c1c09-d32e-4460-a1a5-2ee6b1a8ffd1"
      },
      "execution_count": 144,
      "outputs": [
        {
          "output_type": "display_data",
          "data": {
            "text/plain": [
              "<Figure size 504x504 with 1 Axes>"
            ],
            "image/png": "[encoded data removed]"
          },
          "metadata": {
            "needs_background": "light"
          }
        }
      ]
    },
    {
      "cell_type": "code",
      "source": [],
      "metadata": {
        "id": "0poXEx6QUZ6Z"
      },
      "execution_count": null,
      "outputs": []
    }
  ]
}