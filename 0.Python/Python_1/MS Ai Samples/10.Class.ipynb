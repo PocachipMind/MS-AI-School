{
 "cells": [
  {
   "cell_type": "code",
   "execution_count": 2,
   "id": "ec51cc01",
   "metadata": {},
   "outputs": [],
   "source": [
    "class MyClass:\n",
    "    pass"
   ]
  },
  {
   "cell_type": "code",
   "execution_count": 3,
   "id": "5eb5525a",
   "metadata": {},
   "outputs": [
    {
     "data": {
      "text/plain": [
       "__main__.MyClass"
      ]
     },
     "execution_count": 3,
     "metadata": {},
     "output_type": "execute_result"
    }
   ],
   "source": [
    "MyClass"
   ]
  },
  {
   "cell_type": "code",
   "execution_count": 4,
   "id": "33b08d49",
   "metadata": {},
   "outputs": [
    {
     "data": {
      "text/plain": [
       "type"
      ]
     },
     "execution_count": 4,
     "metadata": {},
     "output_type": "execute_result"
    }
   ],
   "source": [
    "type(MyClass)"
   ]
  },
  {
   "cell_type": "code",
   "execution_count": 5,
   "id": "589a8db7",
   "metadata": {},
   "outputs": [],
   "source": [
    "class Person:\n",
    "    Name = 'Default Name' # Perperty\n",
    "    \n",
    "    def Print(self):\n",
    "        print('My name is {0}'.format(self.Name))\n",
    "        "
   ]
  },
  {
   "cell_type": "code",
   "execution_count": 6,
   "id": "5330e0f7",
   "metadata": {},
   "outputs": [],
   "source": [
    "son = Person()"
   ]
  },
  {
   "cell_type": "code",
   "execution_count": 7,
   "id": "bf3e7373",
   "metadata": {},
   "outputs": [
    {
     "name": "stdout",
     "output_type": "stream",
     "text": [
      "My name is 손흥민\n"
     ]
    }
   ],
   "source": [
    "son.Name = '손흥민'\n",
    "son.Print()"
   ]
  },
  {
   "cell_type": "code",
   "execution_count": 8,
   "id": "80d18437",
   "metadata": {},
   "outputs": [],
   "source": [
    "p1 = Person()\n",
    "p2 = Person()"
   ]
  },
  {
   "cell_type": "code",
   "execution_count": 9,
   "id": "3a9337c6",
   "metadata": {},
   "outputs": [],
   "source": [
    "p1.Name = '박보검'\n",
    "p2.Name = '민아' "
   ]
  },
  {
   "cell_type": "code",
   "execution_count": 10,
   "id": "fdce6ce5",
   "metadata": {},
   "outputs": [
    {
     "name": "stdout",
     "output_type": "stream",
     "text": [
      "My name is 박보검\n",
      "My name is 민아\n"
     ]
    }
   ],
   "source": [
    "p1.Print()\n",
    "p2.Print()"
   ]
  },
  {
   "cell_type": "code",
   "execution_count": 11,
   "id": "1877ce23",
   "metadata": {},
   "outputs": [],
   "source": [
    "# instance\n",
    "# 파이썬은 클래스에 추가시 모든 인스턴스에 영향\n",
    "\n",
    "Person.title = 'New title'"
   ]
  },
  {
   "cell_type": "code",
   "execution_count": 12,
   "id": "810658db",
   "metadata": {},
   "outputs": [
    {
     "data": {
      "text/plain": [
       "'New title'"
      ]
     },
     "execution_count": 12,
     "metadata": {},
     "output_type": "execute_result"
    }
   ],
   "source": [
    "p1.title"
   ]
  },
  {
   "cell_type": "code",
   "execution_count": 13,
   "id": "36336485",
   "metadata": {},
   "outputs": [],
   "source": [
    "p1.age = 20"
   ]
  },
  {
   "cell_type": "code",
   "execution_count": 14,
   "id": "7d861144",
   "metadata": {},
   "outputs": [
    {
     "data": {
      "text/plain": [
       "20"
      ]
     },
     "execution_count": 14,
     "metadata": {},
     "output_type": "execute_result"
    }
   ],
   "source": [
    "p1.age"
   ]
  },
  {
   "cell_type": "code",
   "execution_count": 15,
   "id": "d4824a79",
   "metadata": {},
   "outputs": [
    {
     "ename": "NameError",
     "evalue": "name 'person' is not defined",
     "output_type": "error",
     "traceback": [
      "\u001b[1;31m---------------------------------------------------------------------------\u001b[0m",
      "\u001b[1;31mNameError\u001b[0m                                 Traceback (most recent call last)",
      "Input \u001b[1;32mIn [15]\u001b[0m, in \u001b[0;36m<cell line: 1>\u001b[1;34m()\u001b[0m\n\u001b[1;32m----> 1\u001b[0m \u001b[43mperson\u001b[49m\u001b[38;5;241m.\u001b[39mage\n",
      "\u001b[1;31mNameError\u001b[0m: name 'person' is not defined"
     ]
    }
   ],
   "source": [
    "person.age"
   ]
  },
  {
   "cell_type": "code",
   "execution_count": 16,
   "id": "555720a1",
   "metadata": {},
   "outputs": [
    {
     "ename": "AttributeError",
     "evalue": "'Person' object has no attribute 'age'",
     "output_type": "error",
     "traceback": [
      "\u001b[1;31m---------------------------------------------------------------------------\u001b[0m",
      "\u001b[1;31mAttributeError\u001b[0m                            Traceback (most recent call last)",
      "Input \u001b[1;32mIn [16]\u001b[0m, in \u001b[0;36m<cell line: 1>\u001b[1;34m()\u001b[0m\n\u001b[1;32m----> 1\u001b[0m \u001b[43mp2\u001b[49m\u001b[38;5;241;43m.\u001b[39;49m\u001b[43mage\u001b[49m\n",
      "\u001b[1;31mAttributeError\u001b[0m: 'Person' object has no attribute 'age'"
     ]
    }
   ],
   "source": [
    "p2.age"
   ]
  },
  {
   "cell_type": "code",
   "execution_count": 17,
   "id": "04823a04",
   "metadata": {},
   "outputs": [],
   "source": [
    "# 즉 클래스 추가 = 모든 인스턴스 영향\n",
    "# 인스턴스 추가 = 그 인스턴스만 영향"
   ]
  },
  {
   "cell_type": "code",
   "execution_count": 18,
   "id": "2dfd861f",
   "metadata": {},
   "outputs": [],
   "source": [
    "# 클래스의 상속\n",
    "\n",
    "class Person:\n",
    "    pass"
   ]
  },
  {
   "cell_type": "code",
   "execution_count": 19,
   "id": "55967a46",
   "metadata": {},
   "outputs": [],
   "source": [
    "class Bird:\n",
    "    pass"
   ]
  },
  {
   "cell_type": "code",
   "execution_count": 20,
   "id": "c0585db8",
   "metadata": {},
   "outputs": [],
   "source": [
    "# Student는 Person으로 부터 상속받은 개념이다.\n",
    "class Student(Person):\n",
    "    pass"
   ]
  },
  {
   "cell_type": "code",
   "execution_count": 21,
   "id": "5660647f",
   "metadata": {},
   "outputs": [],
   "source": [
    "p = Person()\n",
    "s = Student()"
   ]
  },
  {
   "cell_type": "code",
   "execution_count": 22,
   "id": "57af558c",
   "metadata": {},
   "outputs": [
    {
     "data": {
      "text/plain": [
       "True"
      ]
     },
     "execution_count": 22,
     "metadata": {},
     "output_type": "execute_result"
    }
   ],
   "source": [
    "isinstance(p, Person) #p가 Person으로 부터 만들어진 인스턴스인가"
   ]
  },
  {
   "cell_type": "code",
   "execution_count": 23,
   "id": "ca274dbc",
   "metadata": {},
   "outputs": [
    {
     "data": {
      "text/plain": [
       "True"
      ]
     },
     "execution_count": 23,
     "metadata": {},
     "output_type": "execute_result"
    }
   ],
   "source": [
    "isinstance(s, Person)"
   ]
  },
  {
   "cell_type": "code",
   "execution_count": 24,
   "id": "2f08d02d",
   "metadata": {},
   "outputs": [
    {
     "data": {
      "text/plain": [
       "True"
      ]
     },
     "execution_count": 24,
     "metadata": {},
     "output_type": "execute_result"
    }
   ],
   "source": [
    "isinstance(s, object)"
   ]
  },
  {
   "cell_type": "code",
   "execution_count": 25,
   "id": "402019af",
   "metadata": {},
   "outputs": [
    {
     "data": {
      "text/plain": [
       "False"
      ]
     },
     "execution_count": 25,
     "metadata": {},
     "output_type": "execute_result"
    }
   ],
   "source": [
    "isinstance(p, Bird)"
   ]
  },
  {
   "cell_type": "code",
   "execution_count": 35,
   "id": "41a2c9e1",
   "metadata": {},
   "outputs": [],
   "source": [
    "# 생성자, 소멸자\n",
    "\n",
    "class MyClass:\n",
    "    #생성자\n",
    "    def __init__(self, value):\n",
    "        self.Value = value\n",
    "        print('Class is created! Value = ',value)\n",
    "        \n",
    "    #소멸자\n",
    "    def __del__(self):\n",
    "        print('Class is deleted')"
   ]
  },
  {
   "cell_type": "code",
   "execution_count": 38,
   "id": "8872e0c6",
   "metadata": {},
   "outputs": [
    {
     "name": "stdout",
     "output_type": "stream",
     "text": [
      "Class is created! Value =  10\n",
      "Class is deleted\n"
     ]
    }
   ],
   "source": [
    "m = MyClass(10)"
   ]
  },
  {
   "cell_type": "code",
   "execution_count": 40,
   "id": "44597c6d",
   "metadata": {},
   "outputs": [
    {
     "name": "stdout",
     "output_type": "stream",
     "text": [
      "Class is deleted\n"
     ]
    }
   ],
   "source": [
    "del m"
   ]
  },
  {
   "cell_type": "code",
   "execution_count": 41,
   "id": "224d05e1",
   "metadata": {},
   "outputs": [],
   "source": [
    "# 정적 메소드\n",
    "\n",
    "class CounterManager:\n",
    "    insCount = 0 # 인스턴스 갯수 파악위함\n",
    "    \n",
    "    def __init__(self):\n",
    "        CounterManager.insCount += 1\n",
    "    \n",
    "    def printInstanceCount():\n",
    "        print('Instance Count:', CounterManager.insCount)"
   ]
  },
  {
   "cell_type": "code",
   "execution_count": 42,
   "id": "d8faf954",
   "metadata": {},
   "outputs": [],
   "source": [
    "# 이래도되고\n",
    "#a = CounterManager()\n",
    "#b = CounterManager()\n",
    "#c = CounterManager()\n",
    "\n",
    "a, b, c = CounterManager(), CounterManager(), CounterManager()"
   ]
  },
  {
   "cell_type": "code",
   "execution_count": 43,
   "id": "6a6fd205",
   "metadata": {},
   "outputs": [
    {
     "name": "stdout",
     "output_type": "stream",
     "text": [
      "Instance Count: 3\n"
     ]
    }
   ],
   "source": [
    "CounterManager.printInstanceCount()"
   ]
  },
  {
   "cell_type": "code",
   "execution_count": 44,
   "id": "82df742d",
   "metadata": {},
   "outputs": [],
   "source": [
    "# 상속의 확장\n",
    "\n",
    "class Person:\n",
    "    def __init__(self, name, phone):\n",
    "        self.Name = name\n",
    "        self.Phone = phone\n",
    "    \n",
    "    def PrintInfo(self):\n",
    "        print('Info(Name: {0}, Phone: {1})'.format(self.Name, self.Phone))\n",
    "    \n",
    "    def PrintPersonData(self):\n",
    "        print('Person(Name: {0}, Phone: {1})'.format(self.Name, self.Phone))"
   ]
  },
  {
   "cell_type": "code",
   "execution_count": 60,
   "id": "b211fdf0",
   "metadata": {},
   "outputs": [],
   "source": [
    "# 펄슨을 상속받는 스튜던트 클래스\n",
    "class Student(Person):\n",
    "    \n",
    "    def __init__(self, name, phone, subject, studentID):\n",
    "        self.Name = name\n",
    "        self.Phone = phone\n",
    "        self.Subject = subject\n",
    "        self.StudentID = studentID\n",
    "        \n",
    "    def PrintStudentID(self):\n",
    "        print(self.StudentID)"
   ]
  },
  {
   "cell_type": "code",
   "execution_count": 61,
   "id": "47cee649",
   "metadata": {},
   "outputs": [],
   "source": [
    "p = Person('IU','010-0000-0000')\n",
    "s = Student('MinA', '010-111-1111','Computer Science', '00000')"
   ]
  },
  {
   "cell_type": "code",
   "execution_count": 62,
   "id": "c9a00b80",
   "metadata": {},
   "outputs": [
    {
     "data": {
      "text/plain": [
       "<__main__.Person at 0x263924ac520>"
      ]
     },
     "execution_count": 62,
     "metadata": {},
     "output_type": "execute_result"
    }
   ],
   "source": [
    "p"
   ]
  },
  {
   "cell_type": "code",
   "execution_count": 63,
   "id": "8f394cd8",
   "metadata": {},
   "outputs": [
    {
     "data": {
      "text/plain": [
       "{'Name': 'IU', 'Phone': '010-0000-0000'}"
      ]
     },
     "execution_count": 63,
     "metadata": {},
     "output_type": "execute_result"
    }
   ],
   "source": [
    "p.__dict__"
   ]
  },
  {
   "cell_type": "code",
   "execution_count": 64,
   "id": "05047608",
   "metadata": {},
   "outputs": [
    {
     "data": {
      "text/plain": [
       "{'Name': 'MinA',\n",
       " 'Phone': '010-111-1111',\n",
       " 'Subject': 'Computer Science',\n",
       " 'StudentID': '00000'}"
      ]
     },
     "execution_count": 64,
     "metadata": {},
     "output_type": "execute_result"
    }
   ],
   "source": [
    "s.__dict__"
   ]
  },
  {
   "cell_type": "code",
   "execution_count": 65,
   "id": "a069043a",
   "metadata": {},
   "outputs": [
    {
     "name": "stdout",
     "output_type": "stream",
     "text": [
      "Info(Name: IU, Phone: 010-0000-0000)\n"
     ]
    }
   ],
   "source": [
    "p.PrintInfo()"
   ]
  },
  {
   "cell_type": "code",
   "execution_count": 66,
   "id": "6eca9230",
   "metadata": {},
   "outputs": [
    {
     "name": "stdout",
     "output_type": "stream",
     "text": [
      "Info(Name: MinA, Phone: 010-111-1111)\n"
     ]
    }
   ],
   "source": [
    "s.PrintInfo()"
   ]
  },
  {
   "cell_type": "code",
   "execution_count": 67,
   "id": "613a5541",
   "metadata": {},
   "outputs": [
    {
     "name": "stdout",
     "output_type": "stream",
     "text": [
      "00000\n"
     ]
    }
   ],
   "source": [
    "s.PrintStudentID()"
   ]
  },
  {
   "cell_type": "code",
   "execution_count": 68,
   "id": "ce083c49",
   "metadata": {},
   "outputs": [
    {
     "data": {
      "text/plain": [
       "True"
      ]
     },
     "execution_count": 68,
     "metadata": {},
     "output_type": "execute_result"
    }
   ],
   "source": [
    "# 상속 관계의 확인\n",
    "\n",
    "# 상속관계인지 확인 메소드\n",
    "issubclass(Student, Person)"
   ]
  },
  {
   "cell_type": "code",
   "execution_count": 69,
   "id": "4af15b04",
   "metadata": {},
   "outputs": [
    {
     "data": {
      "text/plain": [
       "False"
      ]
     },
     "execution_count": 69,
     "metadata": {},
     "output_type": "execute_result"
    }
   ],
   "source": [
    "issubclass(Person, Student) #펄슨은 스튜던트의 서브클래스가 맞느냐?"
   ]
  },
  {
   "cell_type": "code",
   "execution_count": 70,
   "id": "34639ed5",
   "metadata": {},
   "outputs": [],
   "source": [
    "# 다중 상속\n",
    "# 가급적이면 사용 하지 말것\n",
    "\n",
    "class Tiger:\n",
    "    def Jump(self):\n",
    "        print('Tiger Jump!!')"
   ]
  },
  {
   "cell_type": "code",
   "execution_count": 71,
   "id": "73ae05db",
   "metadata": {},
   "outputs": [],
   "source": [
    "class Lion:\n",
    "    def Bite(self):\n",
    "        print('Lion bite')"
   ]
  },
  {
   "cell_type": "code",
   "execution_count": 72,
   "id": "de685bf4",
   "metadata": {},
   "outputs": [],
   "source": [
    "# 다중상속\n",
    "class Liger(Tiger,Lion):\n",
    "    def Play(self):\n",
    "        print('Liger player')"
   ]
  },
  {
   "cell_type": "code",
   "execution_count": 73,
   "id": "3942d3cf",
   "metadata": {},
   "outputs": [],
   "source": [
    "l = Liger()"
   ]
  },
  {
   "cell_type": "code",
   "execution_count": 74,
   "id": "c7e7953f",
   "metadata": {},
   "outputs": [
    {
     "name": "stdout",
     "output_type": "stream",
     "text": [
      "Liger player\n"
     ]
    }
   ],
   "source": [
    "l.Play()"
   ]
  },
  {
   "cell_type": "code",
   "execution_count": 75,
   "id": "e2e25342",
   "metadata": {},
   "outputs": [
    {
     "name": "stdout",
     "output_type": "stream",
     "text": [
      "Tiger Jump!!\n"
     ]
    }
   ],
   "source": [
    "l.Jump()"
   ]
  },
  {
   "cell_type": "code",
   "execution_count": 76,
   "id": "311ff49e",
   "metadata": {},
   "outputs": [
    {
     "name": "stdout",
     "output_type": "stream",
     "text": [
      "Lion bite\n"
     ]
    }
   ],
   "source": [
    "l.Bite()"
   ]
  },
  {
   "cell_type": "code",
   "execution_count": null,
   "id": "349bb350",
   "metadata": {},
   "outputs": [],
   "source": []
  }
 ],
 "metadata": {
  "kernelspec": {
   "display_name": "Python 3 (ipykernel)",
   "language": "python",
   "name": "python3"
  },
  "language_info": {
   "codemirror_mode": {
    "name": "ipython",
    "version": 3
   },
   "file_extension": ".py",
   "mimetype": "text/x-python",
   "name": "python",
   "nbconvert_exporter": "python",
   "pygments_lexer": "ipython3",
   "version": "3.9.12"
  }
 },
 "nbformat": 4,
 "nbformat_minor": 5
}
