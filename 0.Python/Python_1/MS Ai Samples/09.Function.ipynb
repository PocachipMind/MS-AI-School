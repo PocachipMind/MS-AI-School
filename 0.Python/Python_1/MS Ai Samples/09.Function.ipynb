{
 "cells": [
  {
   "cell_type": "code",
   "execution_count": 1,
   "id": "d34e3123",
   "metadata": {},
   "outputs": [],
   "source": [
    "def ReturnName():\n",
    "    print('My name is IU')"
   ]
  },
  {
   "cell_type": "code",
   "execution_count": 2,
   "id": "f81a1a92",
   "metadata": {},
   "outputs": [
    {
     "name": "stdout",
     "output_type": "stream",
     "text": [
      "My name is IU\n"
     ]
    }
   ],
   "source": [
    "ReturnName()"
   ]
  },
  {
   "cell_type": "code",
   "execution_count": 3,
   "id": "36198cb8",
   "metadata": {},
   "outputs": [],
   "source": [
    "def ReturnName2(name):\n",
    "    print('My name is {}'.format(name))"
   ]
  },
  {
   "cell_type": "code",
   "execution_count": 5,
   "id": "dabd1fae",
   "metadata": {},
   "outputs": [
    {
     "name": "stdout",
     "output_type": "stream",
     "text": [
      "My name is 레드벨벳\n"
     ]
    }
   ],
   "source": [
    "ReturnName2('레드벨벳')"
   ]
  },
  {
   "cell_type": "code",
   "execution_count": 6,
   "id": "baef940c",
   "metadata": {},
   "outputs": [],
   "source": [
    "def calc(a, b):\n",
    "    c = a * b\n",
    "    \n",
    "    return c"
   ]
  },
  {
   "cell_type": "code",
   "execution_count": 8,
   "id": "a602bb10",
   "metadata": {},
   "outputs": [
    {
     "data": {
      "text/plain": [
       "20000"
      ]
     },
     "execution_count": 8,
     "metadata": {},
     "output_type": "execute_result"
    }
   ],
   "source": [
    "calc(10, 20) * 100"
   ]
  },
  {
   "cell_type": "code",
   "execution_count": 9,
   "id": "9b7fb821",
   "metadata": {},
   "outputs": [
    {
     "data": {
      "text/plain": [
       "<function __main__.calc(a, b)>"
      ]
     },
     "execution_count": 9,
     "metadata": {},
     "output_type": "execute_result"
    }
   ],
   "source": [
    "calc"
   ]
  },
  {
   "cell_type": "code",
   "execution_count": 10,
   "id": "869d8c1e",
   "metadata": {},
   "outputs": [
    {
     "data": {
      "text/plain": [
       "1379288804800"
      ]
     },
     "execution_count": 10,
     "metadata": {},
     "output_type": "execute_result"
    }
   ],
   "source": [
    "id(calc)"
   ]
  },
  {
   "cell_type": "code",
   "execution_count": null,
   "id": "1790a3b3",
   "metadata": {},
   "outputs": [],
   "source": []
  }
 ],
 "metadata": {
  "kernelspec": {
   "display_name": "Python 3 (ipykernel)",
   "language": "python",
   "name": "python3"
  },
  "language_info": {
   "codemirror_mode": {
    "name": "ipython",
    "version": 3
   },
   "file_extension": ".py",
   "mimetype": "text/x-python",
   "name": "python",
   "nbconvert_exporter": "python",
   "pygments_lexer": "ipython3",
   "version": "3.9.12"
  }
 },
 "nbformat": 4,
 "nbformat_minor": 5
}
