{
  "nbformat": 4,
  "nbformat_minor": 0,
  "metadata": {
    "colab": {
      "provenance": [],
      "authorship_tag": "ABX9TyPHDAucCLar6hUp5OW8YTI8",
      "include_colab_link": true
    },
    "kernelspec": {
      "name": "python3",
      "display_name": "Python 3"
    },
    "language_info": {
      "name": "python"
    }
  },
  "cells": [
    {
      "cell_type": "markdown",
      "metadata": {
        "id": "view-in-github",
        "colab_type": "text"
      },
      "source": [
        "<a href=\"https://colab.research.google.com/github/PocachipMind/MS-AI-School/blob/main/Python/Python_3/3_Custom_Vision.ipynb\" target=\"_parent\"><img src=\"https://colab.research.google.com/assets/colab-badge.svg\" alt=\"Open In Colab\"/></a>"
      ]
    },
    {
      "cell_type": "code",
      "execution_count": 1,
      "metadata": {
        "colab": {
          "base_uri": "https://localhost:8080/"
        },
        "id": "Cb5-ssNn3nyt",
        "outputId": "ab968591-1877-4478-ee49-411a9f8fcf0e"
      },
      "outputs": [
        {
          "output_type": "stream",
          "name": "stdout",
          "text": [
            "Looking in indexes: https://pypi.org/simple, https://us-python.pkg.dev/colab-wheels/public/simple/\n",
            "Collecting azure-cognitiveservices-vision-customvision\n",
            "  Downloading azure_cognitiveservices_vision_customvision-3.1.0-py2.py3-none-any.whl (62 kB)\n",
            "\u001b[K     |████████████████████████████████| 62 kB 567 kB/s \n",
            "\u001b[?25hCollecting msrest>=0.5.0\n",
            "  Downloading msrest-0.7.1-py3-none-any.whl (85 kB)\n",
            "\u001b[K     |████████████████████████████████| 85 kB 4.0 MB/s \n",
            "\u001b[?25hCollecting azure-common~=1.1\n",
            "  Downloading azure_common-1.1.28-py2.py3-none-any.whl (14 kB)\n",
            "Collecting isodate>=0.6.0\n",
            "  Downloading isodate-0.6.1-py2.py3-none-any.whl (41 kB)\n",
            "\u001b[K     |████████████████████████████████| 41 kB 606 kB/s \n",
            "\u001b[?25hRequirement already satisfied: requests-oauthlib>=0.5.0 in /usr/local/lib/python3.7/dist-packages (from msrest>=0.5.0->azure-cognitiveservices-vision-customvision) (1.3.1)\n",
            "Collecting azure-core>=1.24.0\n",
            "  Downloading azure_core-1.26.0-py3-none-any.whl (178 kB)\n",
            "\u001b[K     |████████████████████████████████| 178 kB 50.6 MB/s \n",
            "\u001b[?25hRequirement already satisfied: requests~=2.16 in /usr/local/lib/python3.7/dist-packages (from msrest>=0.5.0->azure-cognitiveservices-vision-customvision) (2.23.0)\n",
            "Requirement already satisfied: certifi>=2017.4.17 in /usr/local/lib/python3.7/dist-packages (from msrest>=0.5.0->azure-cognitiveservices-vision-customvision) (2022.9.24)\n",
            "Requirement already satisfied: typing-extensions>=4.0.1 in /usr/local/lib/python3.7/dist-packages (from azure-core>=1.24.0->msrest>=0.5.0->azure-cognitiveservices-vision-customvision) (4.1.1)\n",
            "Requirement already satisfied: six>=1.11.0 in /usr/local/lib/python3.7/dist-packages (from azure-core>=1.24.0->msrest>=0.5.0->azure-cognitiveservices-vision-customvision) (1.15.0)\n",
            "Requirement already satisfied: chardet<4,>=3.0.2 in /usr/local/lib/python3.7/dist-packages (from requests~=2.16->msrest>=0.5.0->azure-cognitiveservices-vision-customvision) (3.0.4)\n",
            "Requirement already satisfied: idna<3,>=2.5 in /usr/local/lib/python3.7/dist-packages (from requests~=2.16->msrest>=0.5.0->azure-cognitiveservices-vision-customvision) (2.10)\n",
            "Requirement already satisfied: urllib3!=1.25.0,!=1.25.1,<1.26,>=1.21.1 in /usr/local/lib/python3.7/dist-packages (from requests~=2.16->msrest>=0.5.0->azure-cognitiveservices-vision-customvision) (1.24.3)\n",
            "Requirement already satisfied: oauthlib>=3.0.0 in /usr/local/lib/python3.7/dist-packages (from requests-oauthlib>=0.5.0->msrest>=0.5.0->azure-cognitiveservices-vision-customvision) (3.2.1)\n",
            "Installing collected packages: isodate, azure-core, msrest, azure-common, azure-cognitiveservices-vision-customvision\n",
            "Successfully installed azure-cognitiveservices-vision-customvision-3.1.0 azure-common-1.1.28 azure-core-1.26.0 isodate-0.6.1 msrest-0.7.1\n"
          ]
        }
      ],
      "source": [
        "# 마이크로 소프트에서 만든 pakage가있다.\n",
        "!pip install azure-cognitiveservices-vision-customvision"
      ]
    },
    {
      "cell_type": "code",
      "source": [
        "from azure.cognitiveservices.vision.customvision.training import CustomVisionTrainingClient\n",
        "from azure.cognitiveservices.vision.customvision.prediction import CustomVisionPredictionClient\n",
        "from azure.cognitiveservices.vision.customvision.training.models import ImageFileCreateBatch, ImageFileCreateEntry, Region\n",
        "from msrest.authentication import ApiKeyCredentials\n",
        "import os, time, uuid"
      ],
      "metadata": {
        "id": "SOwUD99o4Ahx"
      },
      "execution_count": 16,
      "outputs": []
    },
    {
      "cell_type": "code",
      "source": [
        "ENDPOINT_Training = 'https://labuser43custom.cognitiveservices.azure.com/'\n",
        "ENDPOINT_Prediction = 'https://labuser43custom-prediction.cognitiveservices.azure.com/'\n",
        "\n",
        "training_key = 'ad1ce972ceef4a6db41c9b9cebf8b0ed'\n",
        "prediction_key = '9cfc80c8df0d44f18057bbb2071b95be'\n",
        "prediction_resource_id = '/subscriptions/7ae06d59-97e1-4a36-bbfe-efb081b9b03b/resourceGroups/RG43/providers/Microsoft.CognitiveServices/accounts/labuser43custom'"
      ],
      "metadata": {
        "id": "KBgBMzeO6mOI"
      },
      "execution_count": 17,
      "outputs": []
    },
    {
      "cell_type": "code",
      "source": [
        "credentials = ApiKeyCredentials(in_headers={\"Training-key\": training_key})\n",
        "trainer = CustomVisionTrainingClient(ENDPOINT_Training, credentials)"
      ],
      "metadata": {
        "id": "cetFsP_n_nHD"
      },
      "execution_count": 18,
      "outputs": []
    },
    {
      "cell_type": "code",
      "source": [
        "print (\"Creating project...\")\n",
        "project = trainer.create_project(\"Labuser43 Project\")"
      ],
      "metadata": {
        "colab": {
          "base_uri": "https://localhost:8080/"
        },
        "id": "YiWTcT-uBZBO",
        "outputId": "8dd4587f-493d-4b77-d4ea-32f110bf3ee9"
      },
      "execution_count": 19,
      "outputs": [
        {
          "output_type": "stream",
          "name": "stdout",
          "text": [
            "Creating project...\n"
          ]
        }
      ]
    },
    {
      "cell_type": "code",
      "source": [
        "Jajangmyeon_tag = trainer.create_tag(project.id, \"Jajangmyeon\")\n",
        "Champon_tag = trainer.create_tag(project.id, \"Champon\")\n",
        "Tangsuyug_tag = trainer.create_tag(project.id, \"Tangsuyug\")"
      ],
      "metadata": {
        "id": "CL7myrY0CN4A"
      },
      "execution_count": 20,
      "outputs": []
    },
    {
      "cell_type": "code",
      "source": [
        "import time"
      ],
      "metadata": {
        "id": "QKEVN78FCUNS"
      },
      "execution_count": 21,
      "outputs": []
    },
    {
      "cell_type": "code",
      "source": [
        "print('Training....')\n",
        "iteration = trainer.train_project(project.id)\n",
        "# 트레이닝 끝날 때까지 지속적으로 print 해줌\n",
        "while (iteration.status != 'Completed'):\n",
        "  iteration = trainer.get_iteration(project.id, iteration.id)\n",
        "  print('Training status: ' + iteration.status)\n",
        "\n",
        "  time.sleep(10)\n",
        "\n",
        "print('Done!')"
      ],
      "metadata": {
        "colab": {
          "base_uri": "https://localhost:8080/"
        },
        "id": "tpaZgmh2D3VN",
        "outputId": "7de1efaf-c17d-4e91-e8af-e8aa8c17ead3"
      },
      "execution_count": 22,
      "outputs": [
        {
          "output_type": "stream",
          "name": "stdout",
          "text": [
            "Training....\n",
            "Training status: Training\n",
            "Training status: Training\n",
            "Training status: Training\n",
            "Training status: Training\n",
            "Training status: Training\n",
            "Training status: Training\n",
            "Training status: Training\n",
            "Training status: Training\n",
            "Training status: Training\n",
            "Training status: Training\n",
            "Training status: Training\n",
            "Training status: Training\n",
            "Training status: Training\n",
            "Training status: Training\n",
            "Training status: Training\n",
            "Training status: Training\n",
            "Training status: Training\n",
            "Training status: Training\n",
            "Training status: Training\n",
            "Training status: Training\n",
            "Training status: Training\n",
            "Training status: Training\n",
            "Training status: Training\n",
            "Training status: Training\n",
            "Training status: Training\n",
            "Training status: Training\n",
            "Training status: Training\n",
            "Training status: Training\n",
            "Training status: Training\n",
            "Training status: Training\n",
            "Training status: Training\n",
            "Training status: Training\n",
            "Training status: Training\n",
            "Training status: Training\n",
            "Training status: Training\n",
            "Training status: Training\n",
            "Training status: Training\n",
            "Training status: Training\n",
            "Training status: Training\n",
            "Training status: Training\n",
            "Training status: Completed\n",
            "Done!\n"
          ]
        }
      ]
    },
    {
      "cell_type": "code",
      "source": [
        "from azure.cognitiveservices.vision.customvision.prediction import CustomVisionPredictionClient"
      ],
      "metadata": {
        "id": "cucyMv_bFbd4"
      },
      "execution_count": 23,
      "outputs": []
    },
    {
      "cell_type": "code",
      "source": [
        "prediction_credentials = ApiKeyCredentials(in_headers={\"Prediction-key\" : prediction_key})\n",
        "predictor = CustomVisionPredictionClient(ENDPOINT_Prediction, prediction_credentials)"
      ],
      "metadata": {
        "id": "wbV5LZXafbKV"
      },
      "execution_count": 24,
      "outputs": []
    },
    {
      "cell_type": "code",
      "source": [
        "target_image_url = 'https://w.namu.la/s/d4c53737b61fec8cf0fa02206d85a5022fc5465593f2e0190648f7c5911acd836a5f7a1db0f19f0136ec1c178d782465a9455b31d178b79df5133fc6b493a41f2d745b30d6544f2d4f3d1021db4f61ba5d8b520b7dea658e1917975619a446a7'\n",
        "result = predictor.classify_image_url(project.id, 'greatwall', target_image_url)"
      ],
      "metadata": {
        "id": "c9oGRBIZgwdZ"
      },
      "execution_count": 25,
      "outputs": []
    },
    {
      "cell_type": "code",
      "source": [
        "for prediction in result.predictions:\n",
        "  print('\\t' + prediction.tag_name + ': {0:.2f}%'.format(prediction.probability * 100))"
      ],
      "metadata": {
        "id": "BOqNhUc6hAp9",
        "outputId": "31341fb2-259b-463d-df6d-3d4e94f90674",
        "colab": {
          "base_uri": "https://localhost:8080/"
        }
      },
      "execution_count": 28,
      "outputs": [
        {
          "output_type": "stream",
          "name": "stdout",
          "text": [
            "\tJajangmyeon: 98.02%\n",
            "\tChampon: 0.91%\n",
            "\tTangsuyug: 0.23%\n"
          ]
        }
      ]
    },
    {
      "cell_type": "code",
      "source": [
        "# 각각의 확률은 독립시행적 확률입니다. >> 즉 총합이 100%가 아닐 확률이 높다는 뜻입니다."
      ],
      "metadata": {
        "id": "gpc6eWaghZBf"
      },
      "execution_count": 30,
      "outputs": []
    }
  ]
}
