{
  "cells": [
    {
      "cell_type": "code",
      "source": [
        "from azureml.core import Workspace\n",
        "ws = Workspace.from_config()\n",
        "print('Workspace name:' + ws.name,\n",
        "    'Azure region: ' + ws.location,\n",
        "    'Subscription ID' + ws.subscription_id,\n",
        "    'Resource Group:' + ws.resource_group\n",
        ")"
      ],
      "outputs": [
        {
          "output_type": "stream",
          "name": "stdout",
          "text": "Workspace name:labuser79ml Azure region: koreacentral Subscription ID3f43e823-597d-46de-8acc-3385c3f14d12 Resource Group:mlops\n"
        }
      ],
      "execution_count": 3,
      "metadata": {
        "gather": {
          "logged": 1667526980210
        }
      }
    },
    {
      "cell_type": "code",
      "source": [
        "#실험공간의 생성\n",
        "from azureml.core import Experiment\n",
        "experiment = Experiment(workspace=ws, name='diabetes-experiment')"
      ],
      "outputs": [],
      "execution_count": 5,
      "metadata": {
        "jupyter": {
          "source_hidden": false,
          "outputs_hidden": false
        },
        "nteract": {
          "transient": {
            "deleting": false
          }
        },
        "gather": {
          "logged": 1667528248645
        }
      }
    },
    {
      "cell_type": "code",
      "source": [
        "from azureml.opendatasets import Diabetes\n",
        "from sklearn.model_selection import train_test_split\n",
        "\n",
        "x_df = Diabetes.get_tabular_dataset().to_pandas_dataframe().dropna()\n",
        "y_df = x_df.pop('Y')\n",
        "\n",
        "X_train, X_test, y_train, y_test = train_test_split(x_df, y_df, test_size=0.2, random_state=66)\n",
        "print(X_train)"
      ],
      "outputs": [
        {
          "output_type": "stream",
          "name": "stdout",
          "text": "     AGE  SEX   BMI     BP   S1     S2    S3    S4      S5   S6\n440   36    1  30.0   95.0  201  125.2  42.0  4.79  5.1299   85\n389   47    2  26.5   70.0  181  104.8  63.0  3.00  4.1897   70\n5     23    1  22.6   89.0  139   64.8  61.0  2.00  4.1897   68\n289   28    2  31.5   83.0  228  149.4  38.0  6.00  5.3132   83\n101   53    2  22.2  113.0  197  115.2  67.0  3.00  4.3041  100\n..   ...  ...   ...    ...  ...    ...   ...   ...     ...  ...\n122   62    2  33.9  101.0  221  156.4  35.0  6.00  4.9972  103\n51    65    2  27.9  103.0  159   96.8  42.0  4.00  4.6151   86\n119   53    1  22.0   94.0  175   88.0  59.0  3.00  4.9416   98\n316   53    2  27.7   95.0  190  101.8  41.0  5.00  5.4638  101\n20    35    1  21.1   82.0  156   87.8  50.0  3.00  4.5109   95\n\n[353 rows x 10 columns]\n"
        }
      ],
      "execution_count": 9,
      "metadata": {
        "jupyter": {
          "source_hidden": false,
          "outputs_hidden": false
        },
        "nteract": {
          "transient": {
            "deleting": false
          }
        },
        "gather": {
          "logged": 1667528831368
        }
      }
    },
    {
      "cell_type": "code",
      "source": [
        "from sklearn.linear_model import Ridge\n",
        "from sklearn.metrics import mean_squared_error\n",
        "from sklearn.externals import joblib\n",
        "import math\n",
        "\n",
        "alphas = [0.1,0.2,0.3,0.4,0.5,0.6,0.7,0.8,0.9,1.0]\n",
        "\n",
        "for alpha in alphas:\n",
        "    run = experiment.start_logging()\n",
        "    run.log('alpha_value', alpha)\n",
        "\n",
        "    model = Ridge(alpha=alpha)\n",
        "    model.fit(X_train,y_train)\n",
        "\n",
        "    y_pred = model.predict(X_test)\n",
        "    rmse = math.sqrt(mean_squared_error(y_test,y_pred))\n",
        "    run.log('rmse',rmse)\n",
        "\n",
        "    model_name = 'model_alpha_' + str(alpha) + '.pkl'\n",
        "    filename = 'outputs/' + model_name\n",
        "\n",
        "    joblib.dump(value=model,filename=filename)\n",
        "    run.upload_file(name=model_name, path_or_stream=filename)\n",
        "    run.complete()\n",
        "\n",
        "    print(f'{alpha} experiment completed')"
      ],
      "outputs": [
        {
          "output_type": "stream",
          "name": "stderr",
          "text": "/anaconda/envs/azureml_py38/lib/python3.8/site-packages/sklearn/externals/joblib/__init__.py:15: FutureWarning: sklearn.externals.joblib is deprecated in 0.21 and will be removed in 0.23. Please import this functionality directly from joblib, which can be installed with: pip install joblib. If this warning is raised when loading pickled models, you may need to re-serialize those models with scikit-learn 0.21+.\n  warnings.warn(msg, category=FutureWarning)\n"
        },
        {
          "output_type": "stream",
          "name": "stdout",
          "text": "0.1 experiment completed\n0.2 experiment completed\n0.3 experiment completed\n0.4 experiment completed\n0.5 experiment completed\n0.6 experiment completed\n0.7 experiment completed\n0.8 experiment completed\n0.9 experiment completed\n1.0 experiment completed\n"
        }
      ],
      "execution_count": 10,
      "metadata": {
        "jupyter": {
          "source_hidden": false,
          "outputs_hidden": false
        },
        "nteract": {
          "transient": {
            "deleting": false
          }
        },
        "gather": {
          "logged": 1667530086630
        }
      }
    },
    {
      "cell_type": "code",
      "source": [
        "experiment"
      ],
      "outputs": [
        {
          "output_type": "execute_result",
          "execution_count": 11,
          "data": {
            "text/plain": "Experiment(Name: diabetes-experiment,\nWorkspace: labuser79ml)",
            "text/html": "<table style=\"width:100%\"><tr><th>Name</th><th>Workspace</th><th>Report Page</th><th>Docs Page</th></tr><tr><td>diabetes-experiment</td><td>labuser79ml</td><td><a href=\"https://ml.azure.com/experiments/id/67996594-15ed-4815-95fe-a1a02b5aef8e?wsid=/subscriptions/3f43e823-597d-46de-8acc-3385c3f14d12/resourcegroups/mlops/workspaces/labuser79ml&amp;tid=373346ec-cc5f-4210-b5bc-9a4c2d9517d8\" target=\"_blank\" rel=\"noopener\">Link to Azure Machine Learning studio</a></td><td><a href=\"https://docs.microsoft.com/en-us/python/api/azureml-core/azureml.core.experiment.Experiment?view=azure-ml-py\" target=\"_blank\" rel=\"noopener\">Link to Documentation</a></td></tr></table>"
          },
          "metadata": {}
        }
      ],
      "execution_count": 11,
      "metadata": {
        "jupyter": {
          "source_hidden": false,
          "outputs_hidden": false
        },
        "nteract": {
          "transient": {
            "deleting": false
          }
        },
        "gather": {
          "logged": 1667535148911
        }
      }
    },
    {
      "cell_type": "code",
      "source": [
        "experiment.get_runs()"
      ],
      "outputs": [
        {
          "output_type": "execute_result",
          "execution_count": 13,
          "data": {
            "text/plain": "<generator object Run._rehydrate_runs at 0x7ff6484b5580>"
          },
          "metadata": {}
        }
      ],
      "execution_count": 13,
      "metadata": {
        "jupyter": {
          "source_hidden": false,
          "outputs_hidden": false
        },
        "nteract": {
          "transient": {
            "deleting": false
          }
        },
        "gather": {
          "logged": 1667536132910
        }
      }
    },
    {
      "cell_type": "code",
      "source": [
        "# Best model 탐색 후 다운로드 \n",
        "\n",
        "minium_rmse_runid = None\n",
        "minium_rmse = None\n",
        "\n",
        "for run in experiment.get_runs():\n",
        "    run_metrics = run.get_metrics()\n",
        "    run_details = run.get_details()\n",
        "\n",
        "    run_rmse = run_metrics['rmse']\n",
        "    run_id = run_details['runId']\n",
        "\n",
        "    if minium_rmse is None:\n",
        "        minium_rmse = run_rmse\n",
        "        minium_rmse_runid = run_id\n",
        "    else:\n",
        "        if run_rmse < minium_rmse:\n",
        "            minium_rmse = run_rmse\n",
        "            minium_rmse_runid = run_id\n",
        "\n",
        "print('Best run_id:' + minium_rmse_runid)\n",
        "print('Best rmse:' + str(minium_rmse))"
      ],
      "outputs": [
        {
          "output_type": "stream",
          "name": "stdout",
          "text": "Best run_id:b5e97d1c-fa7b-43b1-a121-d63d2260f6bd\nBest rmse:56.605203313391435\n"
        }
      ],
      "execution_count": 12,
      "metadata": {
        "jupyter": {
          "source_hidden": false,
          "outputs_hidden": false
        },
        "nteract": {
          "transient": {
            "deleting": false
          }
        },
        "gather": {
          "logged": 1667535849924
        }
      }
    },
    {
      "cell_type": "code",
      "source": [
        "from azureml.core import Run\n",
        "best_run = Run(experiment=experiment, run_id = minium_rmse_runid)\n",
        "\n",
        "best_run.download_file(name=str(best_run.get_file_names()[0]))"
      ],
      "outputs": [],
      "execution_count": 15,
      "metadata": {
        "jupyter": {
          "source_hidden": false,
          "outputs_hidden": false
        },
        "nteract": {
          "transient": {
            "deleting": false
          }
        },
        "gather": {
          "logged": 1667536673137
        }
      }
    },
    {
      "cell_type": "code",
      "source": [
        "import numpy as np\n",
        "from azureml.core import Dataset\n",
        "\n",
        "np.savetxt('features.csv', X_train, delimiter=',')\n",
        "np.savetxt('labels.csv', y_train, delimiter=',')\n",
        "\n",
        "datastore = ws.get_default_datastore()\n",
        "datastore.upload_files(files=['./features.csv', './labels.csv'],\n",
        "                       target_path='diabetes-experiment/',\n",
        "                       overwrite=True)\n",
        "\n",
        "input_dataset = Dataset.Tabular.from_delimited_files(path=[(datastore, 'diabetes-experiment/features.csv')])\n",
        "output_dataset = Dataset.Tabular.from_delimited_files(path=[(datastore, 'diabetes-experiment/labels.csv')])"
      ],
      "outputs": [
        {
          "output_type": "stream",
          "name": "stderr",
          "text": "\"datastore.upload_files\" is deprecated after version 1.0.69. Please use \"FileDatasetFactory.upload_directory\" instead. See Dataset API change notice at https://aka.ms/dataset-deprecation.\n"
        },
        {
          "output_type": "stream",
          "name": "stdout",
          "text": "Uploading an estimated of 2 files\nUploading ./features.csv\nUploaded ./features.csv, 1 files out of an estimated total of 2\nUploading ./labels.csv\nUploaded ./labels.csv, 2 files out of an estimated total of 2\nUploaded 2 files\n"
        }
      ],
      "execution_count": 16,
      "metadata": {
        "jupyter": {
          "source_hidden": false,
          "outputs_hidden": false
        },
        "nteract": {
          "transient": {
            "deleting": false
          }
        },
        "gather": {
          "logged": 1667536991257
        }
      }
    },
    {
      "cell_type": "code",
      "source": [
        "import sklearn\n",
        "\n",
        "from azureml.core import Model\n",
        "from azureml.core.resource_configuration import ResourceConfiguration\n",
        "\n",
        "\n",
        "model = Model.register(workspace=ws,\n",
        "                       model_name='diabetes-experiment-model',\n",
        "                       model_path=f\"./{str(best_run.get_file_names()[0])}\", \n",
        "                       model_framework=Model.Framework.SCIKITLEARN,  \n",
        "                       model_framework_version=sklearn.__version__,  \n",
        "                       sample_input_dataset=input_dataset,\n",
        "                       sample_output_dataset=output_dataset,\n",
        "                       resource_configuration=ResourceConfiguration(cpu=1, memory_in_gb=0.5),\n",
        "                       description='Ridge regression model to predict diabetes progression.',\n",
        "                       tags={'area': 'diabetes', 'type': 'regression'})\n",
        "\n",
        "print('Name:', model.name)\n",
        "print('Version:', model.version)"
      ],
      "outputs": [
        {
          "output_type": "stream",
          "name": "stdout",
          "text": "Registering model diabetes-experiment-model\nName: diabetes-experiment-model\nVersion: 1\n"
        }
      ],
      "execution_count": 17,
      "metadata": {
        "jupyter": {
          "source_hidden": false,
          "outputs_hidden": false
        },
        "nteract": {
          "transient": {
            "deleting": false
          }
        },
        "gather": {
          "logged": 1667537328642
        }
      }
    },
    {
      "cell_type": "code",
      "source": [
        "service_name = 'diabetes-service'\n",
        "\n",
        "service = Model.deploy(ws, service_name, [model], overwrite=True)\n",
        "service.wait_for_deployment(show_output=True)"
      ],
      "outputs": [
        {
          "output_type": "stream",
          "name": "stdout",
          "text": "Tips: You can try get_logs(): https://aka.ms/debugimage#dockerlog or local deployment: https://aka.ms/debugimage#debug-locally to debug if deployment takes longer than 10 minutes.\nRunning\n2022-11-04 05:10:59+00:00 Creating Container Registry if not exists..\n2022-11-04 05:20:59+00:00 Registering the environment.\n2022-11-04 05:21:02+00:00 Uploading autogenerated assets for no-code-deployment..\n2022-11-04 05:21:04+00:00 Building image..\n2022-11-04 05:31:18+00:00 Generating deployment configuration.\n2022-11-04 05:31:19+00:00 Submitting deployment to compute..\n2022-11-04 05:31:25+00:00 Checking the status of deployment diabetes-service..\n2022-11-04 05:33:28+00:00 Checking the status of inference endpoint diabetes-service.\nSucceeded\nACI service creation operation finished, operation \"Succeeded\"\n"
        }
      ],
      "execution_count": 18,
      "metadata": {
        "jupyter": {
          "source_hidden": false,
          "outputs_hidden": false
        },
        "nteract": {
          "transient": {
            "deleting": false
          }
        },
        "gather": {
          "logged": 1667540011348
        }
      }
    },
    {
      "cell_type": "code",
      "source": [
        "import json\n",
        "\n",
        "\n",
        "input_payload = json.dumps({\n",
        "    'data': X_test.values.tolist(),\n",
        "    'method': 'predict'\n",
        "})\n",
        "\n",
        "output = service.run(input_payload)\n",
        "\n",
        "print(output)"
      ],
      "outputs": [
        {
          "output_type": "stream",
          "name": "stdout",
          "text": "{'predict': [162.52293958544288, 208.21988024472375, 178.68046546164283, 119.41563882648887, 121.7723822470656, 122.04624830103427, 126.21692304040891, 95.6135794227394, 200.76774231696993, 101.55109983315145, 139.39821415415508, 144.82265279925366, 153.60361562830713, 48.66712018290235, 166.37134419850418, 125.13854799937053, 65.21300621823832, 139.5283482530259, 139.90816388629423, 257.82871912385826, 264.6375535106281, 120.27215212632791, 207.32914219261272, 196.8362702903787, 74.6589824660872, 117.00889933076246, 95.864679311641, 164.2679563722529, 132.1800549342325, 234.9912603069332, 233.81386448252078, 268.6190391972623, 215.54482459106964, 201.18024219657366, 163.2169811657443, 114.48358716047022, 114.5025773801035, 86.07694043225257, 180.16617172968824, 155.65248284670497, 187.38157422406334, 168.52451021541356, 74.54538142200488, 62.94517014917858, 96.40743123884533, 161.7406079488585, 125.58720947498506, 202.66383075285535, 82.98022755343061, 269.9693787891581, 132.50844525640287, 159.68974982830116, 114.91998272843654, 258.36988062407056, 121.93222596543166, 238.7826906129044, 213.65613220648197, 200.7799978225562, 124.95356369619236, 80.49427625649417, 203.27009416658302, 120.24867109896002, 66.74646550604115, 51.30186572760857, 159.03762852153784, 206.09161822023634, 122.39519448907777, 287.68497517971696, 197.049207532997, 98.09337669805905, 111.34710624578406, 140.8188977464165, 136.80438484017782, 128.1247333463781, 155.06176666728732, 165.61509939843893, 183.89778973135913, 101.71890503822425, 69.16501763219088, 185.01582983503806, 174.7399930558763, 83.42828000291422, 83.03981706809049, 162.03305804172828, 113.08082394182372, 118.4071993693135, 126.08180607601184, 205.90786381759972, 67.5374115627668]}\n"
        }
      ],
      "execution_count": 21,
      "metadata": {
        "jupyter": {
          "source_hidden": false,
          "outputs_hidden": false
        },
        "nteract": {
          "transient": {
            "deleting": false
          }
        },
        "gather": {
          "logged": 1667540250632
        }
      }
    },
    {
      "cell_type": "code",
      "source": [],
      "outputs": [],
      "execution_count": null,
      "metadata": {
        "jupyter": {
          "source_hidden": false,
          "outputs_hidden": false
        },
        "nteract": {
          "transient": {
            "deleting": false
          }
        }
      }
    }
  ],
  "metadata": {
    "kernelspec": {
      "name": "python38-azureml",
      "language": "python",
      "display_name": "Python 3.8 - AzureML"
    },
    "language_info": {
      "name": "python",
      "version": "3.8.5",
      "mimetype": "text/x-python",
      "codemirror_mode": {
        "name": "ipython",
        "version": 3
      },
      "pygments_lexer": "ipython3",
      "nbconvert_exporter": "python",
      "file_extension": ".py"
    },
    "kernel_info": {
      "name": "python38-azureml"
    },
    "microsoft": {
      "host": {
        "AzureML": {
          "notebookHasBeenCompleted": true
        }
      }
    },
    "nteract": {
      "version": "nteract-front-end@1.0.0"
    }
  },
  "nbformat": 4,
  "nbformat_minor": 2
}
