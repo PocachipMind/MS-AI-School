{
  "nbformat": 4,
  "nbformat_minor": 0,
  "metadata": {
    "colab": {
      "provenance": [],
      "include_colab_link": true
    },
    "kernelspec": {
      "name": "python3",
      "display_name": "Python 3"
    },
    "language_info": {
      "name": "python"
    }
  },
  "cells": [
    {
      "cell_type": "markdown",
      "metadata": {
        "id": "view-in-github",
        "colab_type": "text"
      },
      "source": [
        "<a href=\"https://colab.research.google.com/github/PocachipMind/MS-AI-School/blob/main/5.%20Cloud%20Computing/02.Storage/StorageQueue.ipynb\" target=\"_parent\"><img src=\"https://colab.research.google.com/assets/colab-badge.svg\" alt=\"Open In Colab\"/></a>"
      ]
    },
    {
      "cell_type": "code",
      "execution_count": null,
      "metadata": {
        "colab": {
          "base_uri": "https://localhost:8080/"
        },
        "id": "hiihAMgfzila",
        "outputId": "24abc407-a7f5-4448-9d1d-0abea8ec1f5d"
      },
      "outputs": [
        {
          "output_type": "stream",
          "name": "stdout",
          "text": [
            "Looking in indexes: https://pypi.org/simple, https://us-python.pkg.dev/colab-wheels/public/simple/\n",
            "Requirement already satisfied: azure-storage-queue==2.1.0 in /usr/local/lib/python3.7/dist-packages (2.1.0)\n",
            "Requirement already satisfied: azure-common>=1.1.5 in /usr/local/lib/python3.7/dist-packages (from azure-storage-queue==2.1.0) (1.1.28)\n",
            "Requirement already satisfied: azure-storage-common~=2.1 in /usr/local/lib/python3.7/dist-packages (from azure-storage-queue==2.1.0) (2.1.0)\n",
            "Requirement already satisfied: python-dateutil in /usr/local/lib/python3.7/dist-packages (from azure-storage-common~=2.1->azure-storage-queue==2.1.0) (2.8.2)\n",
            "Requirement already satisfied: cryptography in /usr/local/lib/python3.7/dist-packages (from azure-storage-common~=2.1->azure-storage-queue==2.1.0) (38.0.3)\n",
            "Requirement already satisfied: requests in /usr/local/lib/python3.7/dist-packages (from azure-storage-common~=2.1->azure-storage-queue==2.1.0) (2.23.0)\n",
            "Requirement already satisfied: cffi>=1.12 in /usr/local/lib/python3.7/dist-packages (from cryptography->azure-storage-common~=2.1->azure-storage-queue==2.1.0) (1.15.1)\n",
            "Requirement already satisfied: pycparser in /usr/local/lib/python3.7/dist-packages (from cffi>=1.12->cryptography->azure-storage-common~=2.1->azure-storage-queue==2.1.0) (2.21)\n",
            "Requirement already satisfied: six>=1.5 in /usr/local/lib/python3.7/dist-packages (from python-dateutil->azure-storage-common~=2.1->azure-storage-queue==2.1.0) (1.15.0)\n",
            "Requirement already satisfied: chardet<4,>=3.0.2 in /usr/local/lib/python3.7/dist-packages (from requests->azure-storage-common~=2.1->azure-storage-queue==2.1.0) (3.0.4)\n",
            "Requirement already satisfied: certifi>=2017.4.17 in /usr/local/lib/python3.7/dist-packages (from requests->azure-storage-common~=2.1->azure-storage-queue==2.1.0) (2022.9.24)\n",
            "Requirement already satisfied: urllib3!=1.25.0,!=1.25.1,<1.26,>=1.21.1 in /usr/local/lib/python3.7/dist-packages (from requests->azure-storage-common~=2.1->azure-storage-queue==2.1.0) (1.24.3)\n",
            "Requirement already satisfied: idna<3,>=2.5 in /usr/local/lib/python3.7/dist-packages (from requests->azure-storage-common~=2.1->azure-storage-queue==2.1.0) (2.10)\n"
          ]
        }
      ],
      "source": [
        "!pip install azure-storage-queue==2.1.0"
      ]
    },
    {
      "cell_type": "code",
      "source": [
        "from azure.storage.queue import QueueService, QueueMessageFormat"
      ],
      "metadata": {
        "id": "g2gkLNqwz05q"
      },
      "execution_count": null,
      "outputs": []
    },
    {
      "cell_type": "code",
      "source": [
        "import os, uuid"
      ],
      "metadata": {
        "id": "_g6_Jy6a0cOs"
      },
      "execution_count": null,
      "outputs": []
    },
    {
      "cell_type": "code",
      "source": [
        "connect_str = 'DefaultEndpointsProtocol=https;AccountName=labuser79storage2;AccountKey=C1h+Ap6ImY8ywC3dnw0Pp5Lwr5Xvv/aPEzaKYx2vxlX4DAgAlpGlJ0dRfQIUwRMJIZtQ0BaOCLdb+AStq0UPqA==;EndpointSuffix=core.windows.net'\n",
        "queue_name = 'queue-' + str(uuid.uuid4()) # 랜덤한 난수 사용을 위해 uuid4 쓴거. 거의 안 곂침\n",
        "\n",
        "print('Creating queue:' + queue_name)\n",
        "queue_service = QueueService(connection_string=connect_str)\n",
        "\n",
        "queue_service.create_queue(queue_name)\n"
      ],
      "metadata": {
        "colab": {
          "base_uri": "https://localhost:8080/"
        },
        "id": "MKp5NDRP0idZ",
        "outputId": "beea1087-3f05-4060-dcad-22aab7c0b3fb"
      },
      "execution_count": null,
      "outputs": [
        {
          "output_type": "stream",
          "name": "stdout",
          "text": [
            "Creating queue:queue-89c6dd0d-6d3e-42f1-b3e7-ba976de61379\n"
          ]
        },
        {
          "output_type": "execute_result",
          "data": {
            "text/plain": [
              "True"
            ]
          },
          "metadata": {},
          "execution_count": 19
        }
      ]
    },
    {
      "cell_type": "code",
      "source": [
        "# Setup Base64 encoding and decoding functions\n",
        "queue_service.encode_function = QueueMessageFormat.binary_base64encode\n",
        "queue_service.decode_function = QueueMessageFormat.binary_base64decode\n",
        "\n",
        "import base64\n",
        "message = \"Hello, World\"\n",
        "print(\"Adding message: \" + message)\n",
        "message = base64.b64encode(message.encode('utf-8')) # 들어오는 메세지를 엔코딩함.\n",
        "queue_service.put_message(queue_name, message)"
      ],
      "metadata": {
        "colab": {
          "base_uri": "https://localhost:8080/"
        },
        "id": "Ie3YesqK11mG",
        "outputId": "1c67a2bb-11eb-4709-b25e-609d55f2c427"
      },
      "execution_count": null,
      "outputs": [
        {
          "output_type": "stream",
          "name": "stdout",
          "text": [
            "Adding message: Hello, World\n"
          ]
        },
        {
          "output_type": "execute_result",
          "data": {
            "text/plain": [
              "<azure.storage.queue.models.QueueMessage at 0x7f8580c9c910>"
            ]
          },
          "metadata": {},
          "execution_count": 24
        }
      ]
    },
    {
      "cell_type": "code",
      "source": [
        "messages = queue_service.peek_messages(queue_name)\n",
        "\n",
        "for peeked_message in messages:\n",
        "  message = base64.b64decode(peeked_message.content) # 엔코딩되어있으므로 디코딩 코드 입력\n",
        "  print(\"Peeked message: \" + message.decode('utf-8')) "
      ],
      "metadata": {
        "colab": {
          "base_uri": "https://localhost:8080/"
        },
        "id": "_57j53SA5zsy",
        "outputId": "724a2d14-5e88-4515-d55d-f76ef7e12917"
      },
      "execution_count": null,
      "outputs": [
        {
          "output_type": "stream",
          "name": "stdout",
          "text": [
            "1\n",
            "Peeked message: Hello, World\n"
          ]
        }
      ]
    },
    {
      "cell_type": "code",
      "source": [
        "messages = queue_service.get_messages(queue_name) # 메세지 가져오기\n",
        "\n",
        "for msg in messages:\n",
        "  message = base64.b64decode(msg.content)\n",
        "  print('Message: ' + message.decode('utf-8'))\n",
        "  # 처음 출력 Message: Hello, World \n",
        "  # 계속 실행하면 출력 없음"
      ],
      "metadata": {
        "id": "VOSpK-PC8Uru"
      },
      "execution_count": null,
      "outputs": []
    },
    {
      "cell_type": "code",
      "source": [
        "print('Deleting queue: ' +  queue_name)\n",
        "queue_service.delete_queue(queue_name) # 큐 삭제"
      ],
      "metadata": {
        "colab": {
          "base_uri": "https://localhost:8080/"
        },
        "id": "equ_6TZC-Iy_",
        "outputId": "f2510560-ebe2-4d2f-dbdf-389e356555ab"
      },
      "execution_count": null,
      "outputs": [
        {
          "output_type": "stream",
          "name": "stdout",
          "text": [
            "Deleting queue: queue-89c6dd0d-6d3e-42f1-b3e7-ba976de61379\n"
          ]
        },
        {
          "output_type": "execute_result",
          "data": {
            "text/plain": [
              "True"
            ]
          },
          "metadata": {},
          "execution_count": 28
        }
      ]
    },
    {
      "cell_type": "code",
      "source": [],
      "metadata": {
        "id": "MlGp_dsVCwtj"
      },
      "execution_count": null,
      "outputs": []
    }
  ]
}